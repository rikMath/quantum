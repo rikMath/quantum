{
  "cells": [
    {
      "cell_type": "markdown",
      "metadata": {
        "colab_type": "text",
        "id": "xLOXFOT5Q40E"
      },
      "source": [
        "##### Copyright 2020 The TensorFlow Authors."
      ]
    },
    {
      "cell_type": "code",
      "execution_count": 1,
      "metadata": {
        "cellView": "form",
        "colab": {},
        "colab_type": "code",
        "id": "iiQkM5ZgQ8r2"
      },
      "outputs": [],
      "source": [
        "#@title Licensed under the Apache License, Version 2.0 (the \"License\");\n",
        "# you may not use this file except in compliance with the License.\n",
        "# You may obtain a copy of the License at\n",
        "#\n",
        "# https://www.apache.org/licenses/LICENSE-2.0\n",
        "#\n",
        "# Unless required by applicable law or agreed to in writing, software\n",
        "# distributed under the License is distributed on an \"AS IS\" BASIS,\n",
        "# WITHOUT WARRANTIES OR CONDITIONS OF ANY KIND, either express or implied.\n",
        "# See the License for the specific language governing permissions and\n",
        "# limitations under the License."
      ]
    },
    {
      "cell_type": "markdown",
      "metadata": {
        "colab_type": "text",
        "id": "j6331ZSsQGY3"
      },
      "source": [
        "# MNIST classification"
      ]
    },
    {
      "cell_type": "markdown",
      "metadata": {
        "colab_type": "text",
        "id": "i9Jcnb8bQQyd"
      },
      "source": [
        "<table class=\"tfo-notebook-buttons\" align=\"left\">\n",
        "  <td>\n",
        "    <a target=\"_blank\" href=\"https://www.tensorflow.org/quantum/tutorials/mnist\"><img src=\"https://www.tensorflow.org/images/tf_logo_32px.png\" />View on TensorFlow.org</a>\n",
        "  </td>\n",
        "  <td>\n",
        "    <a target=\"_blank\" href=\"https://colab.research.google.com/github/tensorflow/quantum/blob/master/docs/tutorials/mnist.ipynb\"><img src=\"https://www.tensorflow.org/images/colab_logo_32px.png\" />Run in Google Colab</a>\n",
        "  </td>\n",
        "  <td>\n",
        "    <a target=\"_blank\" href=\"https://github.com/tensorflow/quantum/blob/master/docs/tutorials/mnist.ipynb\"><img src=\"https://www.tensorflow.org/images/GitHub-Mark-32px.png\" />View source on GitHub</a>\n",
        "  </td>\n",
        "  <td>\n",
        "    <a href=\"https://storage.googleapis.com/tensorflow_docs/quantum/docs/tutorials/mnist.ipynb\"><img src=\"https://www.tensorflow.org/images/download_logo_32px.png\" />Download notebook</a>\n",
        "  </td>\n",
        "</table>"
      ]
    },
    {
      "cell_type": "markdown",
      "metadata": {
        "colab_type": "text",
        "id": "udLObUVeGfTs"
      },
      "source": [
        "This tutorial builds a quantum neural network (QNN) to classify a simplified version of MNIST, similar to the approach used in <a href=\"https://arxiv.org/pdf/1802.06002.pdf\" class=\"external\">Farhi et al</a>. The performance of the quantum neural network on this classical data problem is compared with a classical neural network."
      ]
    },
    {
      "cell_type": "markdown",
      "metadata": {
        "colab_type": "text",
        "id": "X35qHdh5Gzqg"
      },
      "source": [
        "## Setup"
      ]
    },
    {
      "cell_type": "markdown",
      "metadata": {},
      "source": []
    },
    {
      "cell_type": "code",
      "execution_count": 2,
      "metadata": {
        "colab": {},
        "colab_type": "code",
        "id": "TorxE5tnkvb2"
      },
      "outputs": [
        {
          "name": "stdout",
          "output_type": "stream",
          "text": [
            "Requirement already satisfied: tensorflow==2.7.0 in ./.venv/lib/python3.8/site-packages (2.7.0)\n",
            "Requirement already satisfied: numpy>=1.14.5 in ./.venv/lib/python3.8/site-packages (from tensorflow==2.7.0) (1.24.4)\n",
            "Requirement already satisfied: absl-py>=0.4.0 in ./.venv/lib/python3.8/site-packages (from tensorflow==2.7.0) (2.0.0)\n",
            "Requirement already satisfied: astunparse>=1.6.0 in ./.venv/lib/python3.8/site-packages (from tensorflow==2.7.0) (1.6.3)\n",
            "Requirement already satisfied: libclang>=9.0.1 in ./.venv/lib/python3.8/site-packages (from tensorflow==2.7.0) (16.0.6)\n",
            "Requirement already satisfied: flatbuffers<3.0,>=1.12 in ./.venv/lib/python3.8/site-packages (from tensorflow==2.7.0) (2.0.7)\n",
            "Requirement already satisfied: google-pasta>=0.1.1 in ./.venv/lib/python3.8/site-packages (from tensorflow==2.7.0) (0.2.0)\n",
            "Requirement already satisfied: h5py>=2.9.0 in ./.venv/lib/python3.8/site-packages (from tensorflow==2.7.0) (3.10.0)\n",
            "Requirement already satisfied: keras-preprocessing>=1.1.1 in ./.venv/lib/python3.8/site-packages (from tensorflow==2.7.0) (1.1.2)\n",
            "Requirement already satisfied: opt-einsum>=2.3.2 in ./.venv/lib/python3.8/site-packages (from tensorflow==2.7.0) (3.3.0)\n",
            "Requirement already satisfied: protobuf>=3.9.2 in ./.venv/lib/python3.8/site-packages (from tensorflow==2.7.0) (3.17.3)\n",
            "Requirement already satisfied: six>=1.12.0 in ./.venv/lib/python3.8/site-packages (from tensorflow==2.7.0) (1.16.0)\n",
            "Requirement already satisfied: termcolor>=1.1.0 in ./.venv/lib/python3.8/site-packages (from tensorflow==2.7.0) (2.3.0)\n",
            "Requirement already satisfied: typing-extensions>=3.6.6 in ./.venv/lib/python3.8/site-packages (from tensorflow==2.7.0) (4.8.0)\n",
            "Requirement already satisfied: wheel<1.0,>=0.32.0 in ./.venv/lib/python3.8/site-packages (from tensorflow==2.7.0) (0.41.2)\n",
            "Requirement already satisfied: wrapt>=1.11.0 in ./.venv/lib/python3.8/site-packages (from tensorflow==2.7.0) (1.15.0)\n",
            "Requirement already satisfied: gast<0.5.0,>=0.2.1 in ./.venv/lib/python3.8/site-packages (from tensorflow==2.7.0) (0.4.0)\n",
            "Requirement already satisfied: tensorboard~=2.6 in ./.venv/lib/python3.8/site-packages (from tensorflow==2.7.0) (2.14.0)\n",
            "Requirement already satisfied: tensorflow-estimator<2.8,~=2.7.0rc0 in ./.venv/lib/python3.8/site-packages (from tensorflow==2.7.0) (2.7.0)\n",
            "Requirement already satisfied: keras<2.8,>=2.7.0rc0 in ./.venv/lib/python3.8/site-packages (from tensorflow==2.7.0) (2.7.0)\n",
            "Requirement already satisfied: tensorflow-io-gcs-filesystem>=0.21.0 in ./.venv/lib/python3.8/site-packages (from tensorflow==2.7.0) (0.34.0)\n",
            "Requirement already satisfied: grpcio<2.0,>=1.24.3 in ./.venv/lib/python3.8/site-packages (from tensorflow==2.7.0) (1.59.0)\n",
            "Requirement already satisfied: google-auth<3,>=1.6.3 in ./.venv/lib/python3.8/site-packages (from tensorboard~=2.6->tensorflow==2.7.0) (1.18.0)\n",
            "Requirement already satisfied: google-auth-oauthlib<1.1,>=0.5 in ./.venv/lib/python3.8/site-packages (from tensorboard~=2.6->tensorflow==2.7.0) (1.0.0)\n",
            "Requirement already satisfied: markdown>=2.6.8 in ./.venv/lib/python3.8/site-packages (from tensorboard~=2.6->tensorflow==2.7.0) (3.5)\n",
            "Collecting protobuf>=3.9.2 (from tensorflow==2.7.0)\n",
            "  Obtaining dependency information for protobuf>=3.9.2 from https://files.pythonhosted.org/packages/ae/5b/7ed02a9b8e752c8f7bca8661779c0275b9e3e6a903a3045e6da51f796dda/protobuf-4.25.1-cp37-abi3-manylinux2014_x86_64.whl.metadata\n",
            "  Using cached protobuf-4.25.1-cp37-abi3-manylinux2014_x86_64.whl.metadata (541 bytes)\n",
            "Requirement already satisfied: requests<3,>=2.21.0 in ./.venv/lib/python3.8/site-packages (from tensorboard~=2.6->tensorflow==2.7.0) (2.31.0)\n",
            "Requirement already satisfied: setuptools>=41.0.0 in ./.venv/lib/python3.8/site-packages (from tensorboard~=2.6->tensorflow==2.7.0) (56.0.0)\n",
            "Requirement already satisfied: tensorboard-data-server<0.8.0,>=0.7.0 in ./.venv/lib/python3.8/site-packages (from tensorboard~=2.6->tensorflow==2.7.0) (0.7.1)\n",
            "Requirement already satisfied: werkzeug>=1.0.1 in ./.venv/lib/python3.8/site-packages (from tensorboard~=2.6->tensorflow==2.7.0) (3.0.0)\n",
            "Requirement already satisfied: cachetools<5.0,>=2.0.0 in ./.venv/lib/python3.8/site-packages (from google-auth<3,>=1.6.3->tensorboard~=2.6->tensorflow==2.7.0) (4.2.4)\n",
            "Requirement already satisfied: pyasn1-modules>=0.2.1 in ./.venv/lib/python3.8/site-packages (from google-auth<3,>=1.6.3->tensorboard~=2.6->tensorflow==2.7.0) (0.3.0)\n",
            "Requirement already satisfied: rsa<5,>=3.1.4 in ./.venv/lib/python3.8/site-packages (from google-auth<3,>=1.6.3->tensorboard~=2.6->tensorflow==2.7.0) (4.9)\n",
            "Collecting google-auth<3,>=1.6.3 (from tensorboard~=2.6->tensorflow==2.7.0)\n",
            "  Obtaining dependency information for google-auth<3,>=1.6.3 from https://files.pythonhosted.org/packages/f4/d2/9f6f3b9c0fd486617816cff42e856afea079d0bad99f0e60dc186c76b881/google_auth-2.25.2-py2.py3-none-any.whl.metadata\n",
            "  Using cached google_auth-2.25.2-py2.py3-none-any.whl.metadata (4.7 kB)\n",
            "Requirement already satisfied: requests-oauthlib>=0.7.0 in ./.venv/lib/python3.8/site-packages (from google-auth-oauthlib<1.1,>=0.5->tensorboard~=2.6->tensorflow==2.7.0) (1.3.1)\n",
            "Requirement already satisfied: importlib-metadata>=4.4 in ./.venv/lib/python3.8/site-packages (from markdown>=2.6.8->tensorboard~=2.6->tensorflow==2.7.0) (6.8.0)\n",
            "Requirement already satisfied: charset-normalizer<4,>=2 in ./.venv/lib/python3.8/site-packages (from requests<3,>=2.21.0->tensorboard~=2.6->tensorflow==2.7.0) (3.3.0)\n",
            "Requirement already satisfied: idna<4,>=2.5 in ./.venv/lib/python3.8/site-packages (from requests<3,>=2.21.0->tensorboard~=2.6->tensorflow==2.7.0) (3.4)\n",
            "Requirement already satisfied: urllib3<3,>=1.21.1 in ./.venv/lib/python3.8/site-packages (from requests<3,>=2.21.0->tensorboard~=2.6->tensorflow==2.7.0) (2.0.6)\n",
            "Requirement already satisfied: certifi>=2017.4.17 in ./.venv/lib/python3.8/site-packages (from requests<3,>=2.21.0->tensorboard~=2.6->tensorflow==2.7.0) (2023.7.22)\n",
            "Requirement already satisfied: MarkupSafe>=2.1.1 in ./.venv/lib/python3.8/site-packages (from werkzeug>=1.0.1->tensorboard~=2.6->tensorflow==2.7.0) (2.1.3)\n",
            "Requirement already satisfied: zipp>=0.5 in ./.venv/lib/python3.8/site-packages (from importlib-metadata>=4.4->markdown>=2.6.8->tensorboard~=2.6->tensorflow==2.7.0) (3.17.0)\n",
            "Requirement already satisfied: pyasn1<0.6.0,>=0.4.6 in ./.venv/lib/python3.8/site-packages (from pyasn1-modules>=0.2.1->google-auth<3,>=1.6.3->tensorboard~=2.6->tensorflow==2.7.0) (0.5.0)\n",
            "Requirement already satisfied: oauthlib>=3.0.0 in ./.venv/lib/python3.8/site-packages (from requests-oauthlib>=0.7.0->google-auth-oauthlib<1.1,>=0.5->tensorboard~=2.6->tensorflow==2.7.0) (3.2.2)\n",
            "Using cached protobuf-4.25.1-cp37-abi3-manylinux2014_x86_64.whl (294 kB)\n",
            "Using cached google_auth-2.25.2-py2.py3-none-any.whl (184 kB)\n",
            "Installing collected packages: protobuf, google-auth\n",
            "  Attempting uninstall: protobuf\n",
            "    Found existing installation: protobuf 3.17.3\n",
            "    Uninstalling protobuf-3.17.3:\n",
            "      Successfully uninstalled protobuf-3.17.3\n",
            "  Attempting uninstall: google-auth\n",
            "    Found existing installation: google-auth 1.18.0\n",
            "    Uninstalling google-auth-1.18.0:\n",
            "      Successfully uninstalled google-auth-1.18.0\n",
            "\u001b[31mERROR: pip's dependency resolver does not currently take into account all the packages that are installed. This behaviour is the source of the following dependency conflicts.\n",
            "google-api-core 1.21.0 requires google-auth<2.0dev,>=1.18.0, but you have google-auth 2.25.2 which is incompatible.\n",
            "tensorflow-quantum 0.7.2 requires google-auth==1.18.0, but you have google-auth 2.25.2 which is incompatible.\n",
            "tensorflow-quantum 0.7.2 requires protobuf==3.17.3, but you have protobuf 4.25.1 which is incompatible.\u001b[0m\u001b[31m\n",
            "\u001b[0mSuccessfully installed google-auth-2.25.2 protobuf-4.25.1\n",
            "\n",
            "\u001b[1m[\u001b[0m\u001b[34;49mnotice\u001b[0m\u001b[1;39;49m]\u001b[0m\u001b[39;49m A new release of pip is available: \u001b[0m\u001b[31;49m23.2.1\u001b[0m\u001b[39;49m -> \u001b[0m\u001b[32;49m23.3.1\u001b[0m\n",
            "\u001b[1m[\u001b[0m\u001b[34;49mnotice\u001b[0m\u001b[1;39;49m]\u001b[0m\u001b[39;49m To update, run: \u001b[0m\u001b[32;49mpip install --upgrade pip\u001b[0m\n"
          ]
        }
      ],
      "source": [
        "!pip install tensorflow==2.7.0"
      ]
    },
    {
      "cell_type": "markdown",
      "metadata": {
        "colab_type": "text",
        "id": "FxkQA6oblNqI"
      },
      "source": [
        "Install TensorFlow Quantum:"
      ]
    },
    {
      "cell_type": "code",
      "execution_count": 3,
      "metadata": {
        "colab": {},
        "colab_type": "code",
        "id": "saFHsRDpkvkH"
      },
      "outputs": [
        {
          "name": "stdout",
          "output_type": "stream",
          "text": [
            "Requirement already satisfied: tensorflow-quantum==0.7.2 in ./.venv/lib/python3.8/site-packages (0.7.2)\n",
            "Requirement already satisfied: cirq-core==0.13.1 in ./.venv/lib/python3.8/site-packages (from tensorflow-quantum==0.7.2) (0.13.1)\n",
            "Requirement already satisfied: cirq-google>=0.13.1 in ./.venv/lib/python3.8/site-packages (from tensorflow-quantum==0.7.2) (0.13.1)\n",
            "Requirement already satisfied: sympy==1.8 in ./.venv/lib/python3.8/site-packages (from tensorflow-quantum==0.7.2) (1.8)\n",
            "Requirement already satisfied: googleapis-common-protos==1.52.0 in ./.venv/lib/python3.8/site-packages (from tensorflow-quantum==0.7.2) (1.52.0)\n",
            "Requirement already satisfied: google-api-core==1.21.0 in ./.venv/lib/python3.8/site-packages (from tensorflow-quantum==0.7.2) (1.21.0)\n",
            "Collecting google-auth==1.18.0 (from tensorflow-quantum==0.7.2)\n",
            "  Using cached google_auth-1.18.0-py2.py3-none-any.whl (90 kB)\n",
            "Collecting protobuf==3.17.3 (from tensorflow-quantum==0.7.2)\n",
            "  Using cached protobuf-3.17.3-cp38-cp38-manylinux_2_5_x86_64.manylinux1_x86_64.whl (1.0 MB)\n",
            "Requirement already satisfied: duet~=0.2.0 in ./.venv/lib/python3.8/site-packages (from cirq-core==0.13.1->tensorflow-quantum==0.7.2) (0.2.8)\n",
            "Requirement already satisfied: matplotlib~=3.0 in ./.venv/lib/python3.8/site-packages (from cirq-core==0.13.1->tensorflow-quantum==0.7.2) (3.7.3)\n",
            "Requirement already satisfied: networkx~=2.4 in ./.venv/lib/python3.8/site-packages (from cirq-core==0.13.1->tensorflow-quantum==0.7.2) (2.8.8)\n",
            "Requirement already satisfied: numpy~=1.16 in ./.venv/lib/python3.8/site-packages (from cirq-core==0.13.1->tensorflow-quantum==0.7.2) (1.24.4)\n",
            "Requirement already satisfied: pandas in ./.venv/lib/python3.8/site-packages (from cirq-core==0.13.1->tensorflow-quantum==0.7.2) (2.0.3)\n",
            "Requirement already satisfied: scipy in ./.venv/lib/python3.8/site-packages (from cirq-core==0.13.1->tensorflow-quantum==0.7.2) (1.10.1)\n",
            "Requirement already satisfied: sortedcontainers~=2.0 in ./.venv/lib/python3.8/site-packages (from cirq-core==0.13.1->tensorflow-quantum==0.7.2) (2.4.0)\n",
            "Requirement already satisfied: tqdm in ./.venv/lib/python3.8/site-packages (from cirq-core==0.13.1->tensorflow-quantum==0.7.2) (4.66.1)\n",
            "Requirement already satisfied: typing-extensions in ./.venv/lib/python3.8/site-packages (from cirq-core==0.13.1->tensorflow-quantum==0.7.2) (4.8.0)\n",
            "Requirement already satisfied: requests<3.0.0dev,>=2.18.0 in ./.venv/lib/python3.8/site-packages (from google-api-core==1.21.0->tensorflow-quantum==0.7.2) (2.31.0)\n",
            "Requirement already satisfied: setuptools>=34.0.0 in ./.venv/lib/python3.8/site-packages (from google-api-core==1.21.0->tensorflow-quantum==0.7.2) (56.0.0)\n",
            "Requirement already satisfied: six>=1.10.0 in ./.venv/lib/python3.8/site-packages (from google-api-core==1.21.0->tensorflow-quantum==0.7.2) (1.16.0)\n",
            "Requirement already satisfied: pytz in ./.venv/lib/python3.8/site-packages (from google-api-core==1.21.0->tensorflow-quantum==0.7.2) (2023.3.post1)\n",
            "Requirement already satisfied: cachetools<5.0,>=2.0.0 in ./.venv/lib/python3.8/site-packages (from google-auth==1.18.0->tensorflow-quantum==0.7.2) (4.2.4)\n",
            "Requirement already satisfied: pyasn1-modules>=0.2.1 in ./.venv/lib/python3.8/site-packages (from google-auth==1.18.0->tensorflow-quantum==0.7.2) (0.3.0)\n",
            "Requirement already satisfied: rsa<5,>=3.1.4 in ./.venv/lib/python3.8/site-packages (from google-auth==1.18.0->tensorflow-quantum==0.7.2) (4.9)\n",
            "Requirement already satisfied: mpmath>=0.19 in ./.venv/lib/python3.8/site-packages (from sympy==1.8->tensorflow-quantum==0.7.2) (1.3.0)\n",
            "Requirement already satisfied: grpcio<2.0dev,>=1.29.0 in ./.venv/lib/python3.8/site-packages (from google-api-core==1.21.0->tensorflow-quantum==0.7.2) (1.59.0)\n",
            "Requirement already satisfied: contourpy>=1.0.1 in ./.venv/lib/python3.8/site-packages (from matplotlib~=3.0->cirq-core==0.13.1->tensorflow-quantum==0.7.2) (1.1.1)\n",
            "Requirement already satisfied: cycler>=0.10 in ./.venv/lib/python3.8/site-packages (from matplotlib~=3.0->cirq-core==0.13.1->tensorflow-quantum==0.7.2) (0.12.1)\n",
            "Requirement already satisfied: fonttools>=4.22.0 in ./.venv/lib/python3.8/site-packages (from matplotlib~=3.0->cirq-core==0.13.1->tensorflow-quantum==0.7.2) (4.43.1)\n",
            "Requirement already satisfied: kiwisolver>=1.0.1 in ./.venv/lib/python3.8/site-packages (from matplotlib~=3.0->cirq-core==0.13.1->tensorflow-quantum==0.7.2) (1.4.5)\n",
            "Requirement already satisfied: packaging>=20.0 in ./.venv/lib/python3.8/site-packages (from matplotlib~=3.0->cirq-core==0.13.1->tensorflow-quantum==0.7.2) (23.2)\n",
            "Requirement already satisfied: pillow>=6.2.0 in ./.venv/lib/python3.8/site-packages (from matplotlib~=3.0->cirq-core==0.13.1->tensorflow-quantum==0.7.2) (10.0.1)\n",
            "Requirement already satisfied: pyparsing>=2.3.1 in ./.venv/lib/python3.8/site-packages (from matplotlib~=3.0->cirq-core==0.13.1->tensorflow-quantum==0.7.2) (3.1.1)\n",
            "Requirement already satisfied: python-dateutil>=2.7 in ./.venv/lib/python3.8/site-packages (from matplotlib~=3.0->cirq-core==0.13.1->tensorflow-quantum==0.7.2) (2.8.2)\n",
            "Requirement already satisfied: importlib-resources>=3.2.0 in ./.venv/lib/python3.8/site-packages (from matplotlib~=3.0->cirq-core==0.13.1->tensorflow-quantum==0.7.2) (6.1.0)\n",
            "Requirement already satisfied: pyasn1<0.6.0,>=0.4.6 in ./.venv/lib/python3.8/site-packages (from pyasn1-modules>=0.2.1->google-auth==1.18.0->tensorflow-quantum==0.7.2) (0.5.0)\n",
            "Requirement already satisfied: charset-normalizer<4,>=2 in ./.venv/lib/python3.8/site-packages (from requests<3.0.0dev,>=2.18.0->google-api-core==1.21.0->tensorflow-quantum==0.7.2) (3.3.0)\n",
            "Requirement already satisfied: idna<4,>=2.5 in ./.venv/lib/python3.8/site-packages (from requests<3.0.0dev,>=2.18.0->google-api-core==1.21.0->tensorflow-quantum==0.7.2) (3.4)\n",
            "Requirement already satisfied: urllib3<3,>=1.21.1 in ./.venv/lib/python3.8/site-packages (from requests<3.0.0dev,>=2.18.0->google-api-core==1.21.0->tensorflow-quantum==0.7.2) (2.0.6)\n",
            "Requirement already satisfied: certifi>=2017.4.17 in ./.venv/lib/python3.8/site-packages (from requests<3.0.0dev,>=2.18.0->google-api-core==1.21.0->tensorflow-quantum==0.7.2) (2023.7.22)\n",
            "Requirement already satisfied: tzdata>=2022.1 in ./.venv/lib/python3.8/site-packages (from pandas->cirq-core==0.13.1->tensorflow-quantum==0.7.2) (2023.3)\n",
            "Requirement already satisfied: zipp>=3.1.0 in ./.venv/lib/python3.8/site-packages (from importlib-resources>=3.2.0->matplotlib~=3.0->cirq-core==0.13.1->tensorflow-quantum==0.7.2) (3.17.0)\n",
            "Installing collected packages: protobuf, google-auth\n",
            "  Attempting uninstall: protobuf\n",
            "    Found existing installation: protobuf 4.25.1\n",
            "    Uninstalling protobuf-4.25.1:\n",
            "      Successfully uninstalled protobuf-4.25.1\n",
            "  Attempting uninstall: google-auth\n",
            "    Found existing installation: google-auth 2.25.2\n",
            "    Uninstalling google-auth-2.25.2:\n",
            "      Successfully uninstalled google-auth-2.25.2\n",
            "\u001b[31mERROR: pip's dependency resolver does not currently take into account all the packages that are installed. This behaviour is the source of the following dependency conflicts.\n",
            "google-auth-oauthlib 1.0.0 requires google-auth>=2.15.0, but you have google-auth 1.18.0 which is incompatible.\n",
            "tensorboard 2.14.0 requires protobuf>=3.19.6, but you have protobuf 3.17.3 which is incompatible.\u001b[0m\u001b[31m\n",
            "\u001b[0mSuccessfully installed google-auth-1.18.0 protobuf-3.17.3\n",
            "\n",
            "\u001b[1m[\u001b[0m\u001b[34;49mnotice\u001b[0m\u001b[1;39;49m]\u001b[0m\u001b[39;49m A new release of pip is available: \u001b[0m\u001b[31;49m23.2.1\u001b[0m\u001b[39;49m -> \u001b[0m\u001b[32;49m23.3.1\u001b[0m\n",
            "\u001b[1m[\u001b[0m\u001b[34;49mnotice\u001b[0m\u001b[1;39;49m]\u001b[0m\u001b[39;49m To update, run: \u001b[0m\u001b[32;49mpip install --upgrade pip\u001b[0m\n"
          ]
        }
      ],
      "source": [
        "!pip install tensorflow-quantum==0.7.2"
      ]
    },
    {
      "cell_type": "code",
      "execution_count": 4,
      "metadata": {},
      "outputs": [
        {
          "name": "stdout",
          "output_type": "stream",
          "text": [
            "Requirement already satisfied: seaborn in ./.venv/lib/python3.8/site-packages (0.13.0)\n",
            "Requirement already satisfied: numpy!=1.24.0,>=1.20 in ./.venv/lib/python3.8/site-packages (from seaborn) (1.24.4)\n",
            "Requirement already satisfied: pandas>=1.2 in ./.venv/lib/python3.8/site-packages (from seaborn) (2.0.3)\n",
            "Requirement already satisfied: matplotlib!=3.6.1,>=3.3 in ./.venv/lib/python3.8/site-packages (from seaborn) (3.7.3)\n",
            "Requirement already satisfied: contourpy>=1.0.1 in ./.venv/lib/python3.8/site-packages (from matplotlib!=3.6.1,>=3.3->seaborn) (1.1.1)\n",
            "Requirement already satisfied: cycler>=0.10 in ./.venv/lib/python3.8/site-packages (from matplotlib!=3.6.1,>=3.3->seaborn) (0.12.1)\n",
            "Requirement already satisfied: fonttools>=4.22.0 in ./.venv/lib/python3.8/site-packages (from matplotlib!=3.6.1,>=3.3->seaborn) (4.43.1)\n",
            "Requirement already satisfied: kiwisolver>=1.0.1 in ./.venv/lib/python3.8/site-packages (from matplotlib!=3.6.1,>=3.3->seaborn) (1.4.5)\n",
            "Requirement already satisfied: packaging>=20.0 in ./.venv/lib/python3.8/site-packages (from matplotlib!=3.6.1,>=3.3->seaborn) (23.2)\n",
            "Requirement already satisfied: pillow>=6.2.0 in ./.venv/lib/python3.8/site-packages (from matplotlib!=3.6.1,>=3.3->seaborn) (10.0.1)\n",
            "Requirement already satisfied: pyparsing>=2.3.1 in ./.venv/lib/python3.8/site-packages (from matplotlib!=3.6.1,>=3.3->seaborn) (3.1.1)\n",
            "Requirement already satisfied: python-dateutil>=2.7 in ./.venv/lib/python3.8/site-packages (from matplotlib!=3.6.1,>=3.3->seaborn) (2.8.2)\n",
            "Requirement already satisfied: importlib-resources>=3.2.0 in ./.venv/lib/python3.8/site-packages (from matplotlib!=3.6.1,>=3.3->seaborn) (6.1.0)\n",
            "Requirement already satisfied: pytz>=2020.1 in ./.venv/lib/python3.8/site-packages (from pandas>=1.2->seaborn) (2023.3.post1)\n",
            "Requirement already satisfied: tzdata>=2022.1 in ./.venv/lib/python3.8/site-packages (from pandas>=1.2->seaborn) (2023.3)\n",
            "Requirement already satisfied: zipp>=3.1.0 in ./.venv/lib/python3.8/site-packages (from importlib-resources>=3.2.0->matplotlib!=3.6.1,>=3.3->seaborn) (3.17.0)\n",
            "Requirement already satisfied: six>=1.5 in ./.venv/lib/python3.8/site-packages (from python-dateutil>=2.7->matplotlib!=3.6.1,>=3.3->seaborn) (1.16.0)\n",
            "\n",
            "\u001b[1m[\u001b[0m\u001b[34;49mnotice\u001b[0m\u001b[1;39;49m]\u001b[0m\u001b[39;49m A new release of pip is available: \u001b[0m\u001b[31;49m23.2.1\u001b[0m\u001b[39;49m -> \u001b[0m\u001b[32;49m23.3.1\u001b[0m\n",
            "\u001b[1m[\u001b[0m\u001b[34;49mnotice\u001b[0m\u001b[1;39;49m]\u001b[0m\u001b[39;49m To update, run: \u001b[0m\u001b[32;49mpip install --upgrade pip\u001b[0m\n"
          ]
        }
      ],
      "source": [
        "!pip install seaborn"
      ]
    },
    {
      "cell_type": "code",
      "execution_count": 5,
      "metadata": {
        "colab": {},
        "colab_type": "code",
        "id": "4Ql5PW-ACO0J"
      },
      "outputs": [
        {
          "data": {
            "text/plain": [
              "<module 'pkg_resources' from '/home/henrique/Documentos/quantum/.venv/lib/python3.8/site-packages/pkg_resources/__init__.py'>"
            ]
          },
          "execution_count": 5,
          "metadata": {},
          "output_type": "execute_result"
        }
      ],
      "source": [
        "# Update package resources to account for version changes.\n",
        "import importlib, pkg_resources\n",
        "importlib.reload(pkg_resources)"
      ]
    },
    {
      "cell_type": "markdown",
      "metadata": {
        "colab_type": "text",
        "id": "hdgMMZEBGqyl"
      },
      "source": [
        "Now import TensorFlow and the module dependencies:"
      ]
    },
    {
      "cell_type": "code",
      "execution_count": 6,
      "metadata": {
        "colab": {},
        "colab_type": "code",
        "id": "enZ300Bflq80"
      },
      "outputs": [
        {
          "name": "stderr",
          "output_type": "stream",
          "text": [
            "2023-12-18 21:11:20.363889: W tensorflow/stream_executor/platform/default/dso_loader.cc:64] Could not load dynamic library 'libcudart.so.11.0'; dlerror: libcudart.so.11.0: cannot open shared object file: No such file or directory\n",
            "2023-12-18 21:11:20.363916: I tensorflow/stream_executor/cuda/cudart_stub.cc:29] Ignore above cudart dlerror if you do not have a GPU set up on your machine.\n",
            "2023-12-18 21:11:24.335800: E tensorflow/stream_executor/cuda/cuda_driver.cc:271] failed call to cuInit: CUDA_ERROR_NO_DEVICE: no CUDA-capable device is detected\n",
            "2023-12-18 21:11:24.335870: I tensorflow/stream_executor/cuda/cuda_diagnostics.cc:156] kernel driver does not appear to be running on this host (henrique-MS-7C37): /proc/driver/nvidia/version does not exist\n",
            "2023-12-18 21:11:24.336652: I tensorflow/core/platform/cpu_feature_guard.cc:151] This TensorFlow binary is optimized with oneAPI Deep Neural Network Library (oneDNN) to use the following CPU instructions in performance-critical operations:  AVX2 FMA\n",
            "To enable them in other operations, rebuild TensorFlow with the appropriate compiler flags.\n"
          ]
        }
      ],
      "source": [
        "import tensorflow as tf\n",
        "import tensorflow_quantum as tfq\n",
        "\n",
        "import cirq\n",
        "import sympy\n",
        "import numpy as np\n",
        "import seaborn as sns\n",
        "import collections\n",
        "\n",
        "# visualization tools\n",
        "%matplotlib inline\n",
        "import matplotlib.pyplot as plt\n",
        "from cirq.contrib.svg import SVGCircuit"
      ]
    },
    {
      "cell_type": "markdown",
      "metadata": {
        "colab_type": "text",
        "id": "b08Mmbs8lr81"
      },
      "source": [
        "## 1. Load the data\n",
        "\n",
        "In this tutorial you will build a binary classifier to distinguish between the digits 3 and 6, following <a href=\"https://arxiv.org/pdf/1802.06002.pdf\" class=\"external\">Farhi et al.</a> This section covers the data handling that:\n",
        "\n",
        "- Loads the raw data from Keras.\n",
        "- Filters the dataset to only 3s and 6s.\n",
        "- Downscales the images so they fit can fit in a quantum computer.\n",
        "- Removes any contradictory examples.\n",
        "- Converts the binary images to Cirq circuits.\n",
        "- Converts the Cirq circuits to TensorFlow Quantum circuits. "
      ]
    },
    {
      "cell_type": "markdown",
      "metadata": {
        "colab_type": "text",
        "id": "pDUdGxn-ojgy"
      },
      "source": [
        "### 1.1 Load the raw data"
      ]
    },
    {
      "cell_type": "markdown",
      "metadata": {
        "colab_type": "text",
        "id": "xZyGXlaKojgz"
      },
      "source": [
        "Load the MNIST dataset distributed with Keras. "
      ]
    },
    {
      "cell_type": "code",
      "execution_count": 7,
      "metadata": {
        "colab": {},
        "colab_type": "code",
        "id": "d9OSExvCojg0"
      },
      "outputs": [
        {
          "name": "stdout",
          "output_type": "stream",
          "text": [
            "Number of original training examples: 60000\n",
            "Number of original test examples: 10000\n"
          ]
        }
      ],
      "source": [
        "(x_train, y_train), (x_test, y_test) = tf.keras.datasets.mnist.load_data()\n",
        "\n",
        "# Rescale the images from [0,255] to the [0.0,1.0] range.\n",
        "x_train, x_test = x_train[..., np.newaxis]/255.0, x_test[..., np.newaxis]/255.0\n",
        "\n",
        "print(\"Number of original training examples:\", len(x_train))\n",
        "print(\"Number of original test examples:\", len(x_test))"
      ]
    },
    {
      "cell_type": "markdown",
      "metadata": {
        "colab_type": "text",
        "id": "fZpbygdGojg3"
      },
      "source": [
        "Filter the dataset to keep just the 3s and 6s,  remove the other classes. At the same time convert the label, `y`, to boolean: `True` for `3` and `False` for 6. "
      ]
    },
    {
      "cell_type": "code",
      "execution_count": 8,
      "metadata": {
        "colab": {},
        "colab_type": "code",
        "id": "hOw68cCZojg4"
      },
      "outputs": [],
      "source": [
        "def filter_36(x, y):\n",
        "    keep = (y == 3) | (y == 6)\n",
        "    x, y = x[keep], y[keep]\n",
        "    y = y == 3\n",
        "    return x,y"
      ]
    },
    {
      "cell_type": "code",
      "execution_count": 9,
      "metadata": {
        "colab": {},
        "colab_type": "code",
        "id": "p-XEU8egGL6q"
      },
      "outputs": [
        {
          "name": "stdout",
          "output_type": "stream",
          "text": [
            "Number of filtered training examples: 12049\n",
            "Number of filtered test examples: 1968\n"
          ]
        }
      ],
      "source": [
        "x_train, y_train = filter_36(x_train, y_train)\n",
        "x_test, y_test = filter_36(x_test, y_test)\n",
        "\n",
        "print(\"Number of filtered training examples:\", len(x_train))\n",
        "print(\"Number of filtered test examples:\", len(x_test))"
      ]
    },
    {
      "cell_type": "markdown",
      "metadata": {
        "colab_type": "text",
        "id": "3wyiaP0Xojg_"
      },
      "source": [
        "Show the first example:"
      ]
    },
    {
      "cell_type": "code",
      "execution_count": 10,
      "metadata": {
        "colab": {},
        "colab_type": "code",
        "id": "j5STP7MbojhA"
      },
      "outputs": [
        {
          "name": "stdout",
          "output_type": "stream",
          "text": [
            "True\n"
          ]
        },
        {
          "data": {
            "text/plain": [
              "<matplotlib.colorbar.Colorbar at 0x7f2a500bc4c0>"
            ]
          },
          "execution_count": 10,
          "metadata": {},
          "output_type": "execute_result"
        },
        {
          "data": {
            "image/png": "[encoded data removed]",
            "text/plain": [
              "<Figure size 640x480 with 2 Axes>"
            ]
          },
          "metadata": {},
          "output_type": "display_data"
        }
      ],
      "source": [
        "print(y_train[0])\n",
        "\n",
        "plt.imshow(x_train[0, :, :, 0])\n",
        "plt.colorbar()"
      ]
    },
    {
      "cell_type": "markdown",
      "metadata": {
        "colab_type": "text",
        "id": "wNS9sVPQojhC"
      },
      "source": [
        "### 1.2 Downscale the images"
      ]
    },
    {
      "cell_type": "markdown",
      "metadata": {
        "colab_type": "text",
        "id": "fmmtplIFGL6t"
      },
      "source": [
        "An image size of 28x28 is much too large for current quantum computers. Resize the image down to 4x4:"
      ]
    },
    {
      "cell_type": "code",
      "execution_count": 52,
      "metadata": {
        "colab": {},
        "colab_type": "code",
        "id": "lbhUdBFWojhE",
        "scrolled": false
      },
      "outputs": [],
      "source": [
        "# Utilizando vários métodos de redução de dimensionalidade\n",
        "\n",
        "x_train_hat_tent = tf.image.resize(x_train, (4,4), method='bilinear', antialias=True).numpy()\n",
        "x_test_hat_tent = tf.image.resize(x_test, (4,4), method='bilinear', antialias=True).numpy()\n",
        "\n",
        "x_train_bilinear = tf.image.resize(x_train, (4,4), method='bilinear').numpy()\n",
        "x_test_bilinear = tf.image.resize(x_test, (4,4), method='bilinear').numpy()\n",
        "\n",
        "x_train_lanczos3 = tf.image.resize(x_train, (4,4), method='lanczos3').numpy()\n",
        "x_test_lanczos3 = tf.image.resize(x_test, (4,4), method='lanczos3').numpy()\n",
        "\n",
        "x_train_lanczos5 = tf.image.resize(x_train, (4,4), method='lanczos5').numpy()\n",
        "x_test_lanczos5 = tf.image.resize(x_test, (4,4), method='lanczos5').numpy()\n",
        "\n",
        "x_train_mitchellcubic = tf.image.resize(x_train, (4,4), method='mitchellcubic').numpy()\n",
        "x_test_mitchellcubic = tf.image.resize(x_test, (4,4), method='mitchellcubic').numpy()\n",
        "\n",
        "x_train_nearest = tf.image.resize(x_train, (4,4), method='nearest').numpy()\n",
        "x_test_nearest = tf.image.resize(x_test, (4,4), method='nearest').numpy()\n",
        "\n",
        "x_train_area = tf.image.resize(x_train, (4,4), method='area').numpy()\n",
        "x_test_area = tf.image.resize(x_test, (4,4), method='area').numpy()\n",
        "\n",
        "x_train_gaussian = tf.image.resize(x_train, (4,4), method='gaussian').numpy()\n",
        "x_test_gaussian = tf.image.resize(x_test, (4,4), method='gaussian').numpy()\n",
        "\n",
        "x_train_bicubic = tf.image.resize(x_train, (4,4), method='bicubic').numpy()\n",
        "x_test_bicubic = tf.image.resize(x_test, (4,4), method='bicubic').numpy()\n",
        "\n",
        "x_train_small = tf.image.resize(x_train, (4,4)).numpy()\n",
        "x_test_small = tf.image.resize(x_test, (4,4)).numpy()"
      ]
    },
    {
      "cell_type": "markdown",
      "metadata": {
        "colab_type": "text",
        "id": "pOMd7zIjGL6x"
      },
      "source": [
        "Again, display the first training example—after resize: "
      ]
    },
    {
      "cell_type": "code",
      "execution_count": 12,
      "metadata": {
        "colab": {},
        "colab_type": "code",
        "id": "YIYOtCRIGL6y",
        "scrolled": true
      },
      "outputs": [
        {
          "name": "stdout",
          "output_type": "stream",
          "text": [
            "True\n"
          ]
        },
        {
          "data": {
            "text/plain": [
              "<matplotlib.colorbar.Colorbar at 0x7f2a30501310>"
            ]
          },
          "execution_count": 12,
          "metadata": {},
          "output_type": "execute_result"
        },
        {
          "data": {
            "image/png": "[encoded data removed]",
            "text/plain": [
              "<Figure size 640x480 with 2 Axes>"
            ]
          },
          "metadata": {},
          "output_type": "display_data"
        }
      ],
      "source": [
        "print(y_train[0])\n",
        "\n",
        "plt.imshow(x_train_small[0,:,:,0], vmin=0, vmax=1)\n",
        "plt.colorbar()"
      ]
    },
    {
      "cell_type": "markdown",
      "metadata": {
        "colab_type": "text",
        "id": "gGeF1_qtojhK"
      },
      "source": [
        "### 1.3 Remove contradictory examples"
      ]
    },
    {
      "cell_type": "markdown",
      "metadata": {
        "colab_type": "text",
        "id": "7ZLkq2yeojhL"
      },
      "source": [
        "From section *3.3 Learning to Distinguish Digits* of <a href=\"https://arxiv.org/pdf/1802.06002.pdf\" class=\"external\">Farhi et al.</a>, filter the dataset to remove images that are labeled as belonging to both classes.\n",
        "\n",
        "This is not a standard machine-learning procedure, but is included in the interest of following the paper."
      ]
    },
    {
      "cell_type": "code",
      "execution_count": 13,
      "metadata": {
        "colab": {},
        "colab_type": "code",
        "id": "LqOPW0C7ojhL"
      },
      "outputs": [],
      "source": [
        "def remove_contradicting(xs, ys):\n",
        "    return xs, ys\n",
        "    mapping = collections.defaultdict(set)\n",
        "    orig_x = {}\n",
        "    # Determine the set of labels for each unique image:\n",
        "    for x,y in zip(xs,ys):\n",
        "       orig_x[tuple(x.flatten())] = x\n",
        "       mapping[tuple(x.flatten())].add(y)\n",
        "    \n",
        "    new_x = []\n",
        "    new_y = []\n",
        "    for flatten_x in mapping:\n",
        "      x = orig_x[flatten_x]\n",
        "      labels = mapping[flatten_x]\n",
        "      if len(labels) == 1:\n",
        "          new_x.append(x)\n",
        "          new_y.append(next(iter(labels)))\n",
        "      else:\n",
        "          # Throw out images that match more than one label.\n",
        "          pass\n",
        "    \n",
        "    num_uniq_3 = sum(1 for value in mapping.values() if len(value) == 1 and True in value)\n",
        "    num_uniq_6 = sum(1 for value in mapping.values() if len(value) == 1 and False in value)\n",
        "    num_uniq_both = sum(1 for value in mapping.values() if len(value) == 2)\n",
        "\n",
        "    print(\"Number of unique images:\", len(mapping.values()))\n",
        "    print(\"Number of unique 3s: \", num_uniq_3)\n",
        "    print(\"Number of unique 6s: \", num_uniq_6)\n",
        "    print(\"Number of unique contradicting labels (both 3 and 6): \", num_uniq_both)\n",
        "    print()\n",
        "    print(\"Initial number of images: \", len(xs))\n",
        "    print(\"Remaining non-contradicting unique images: \", len(new_x))\n",
        "    \n",
        "    return np.array(new_x), np.array(new_y)"
      ]
    },
    {
      "cell_type": "markdown",
      "metadata": {
        "colab_type": "text",
        "id": "VMOiJfz_ojhP"
      },
      "source": [
        "The resulting counts do not closely match the reported values, but the exact procedure is not specified.\n",
        "\n",
        "It is also worth noting here that applying filtering contradictory examples at this point does not totally prevent the model from receiving contradictory training examples: the next step binarizes the data which will cause more collisions. "
      ]
    },
    {
      "cell_type": "code",
      "execution_count": 14,
      "metadata": {
        "colab": {},
        "colab_type": "code",
        "id": "zpnsAssWojhP",
        "scrolled": true
      },
      "outputs": [
        {
          "name": "stdout",
          "output_type": "stream",
          "text": [
            "Number of unique images: 10387\n",
            "Number of unique 3s:  4912\n",
            "Number of unique 6s:  5426\n",
            "Number of unique contradicting labels (both 3 and 6):  49\n",
            "\n",
            "Initial number of images:  12049\n",
            "Remaining non-contradicting unique images:  10338\n"
          ]
        }
      ],
      "source": [
        "x_train_nocon, y_train_nocon = remove_contradicting(x_train_small, y_train)"
      ]
    },
    {
      "cell_type": "markdown",
      "metadata": {
        "colab_type": "text",
        "id": "SlJ5NVaPojhT"
      },
      "source": [
        "### 1.4 Encode the data as quantum circuits\n",
        "\n",
        "To process images using a quantum computer, <a href=\"https://arxiv.org/pdf/1802.06002.pdf\" class=\"external\">Farhi et al.</a> proposed representing each pixel with a qubit, with the state depending on the value of the pixel. The first step is to convert to a binary encoding."
      ]
    },
    {
      "cell_type": "code",
      "execution_count": 15,
      "metadata": {
        "colab": {},
        "colab_type": "code",
        "id": "1z8J7OyDojhV"
      },
      "outputs": [],
      "source": [
        "THRESHOLD = 0.5\n",
        "\n",
        "x_train_bin = np.array(x_train_nocon > THRESHOLD, dtype=np.float32)\n",
        "x_test_bin = np.array(x_test_small > THRESHOLD, dtype=np.float32)"
      ]
    },
    {
      "cell_type": "markdown",
      "metadata": {
        "colab_type": "text",
        "id": "SlJ5NVaPojhU"
      },
      "source": [
        "If you were to remove contradictory images at this point you would be left with only 193, likely not enough for effective training."
      ]
    },
    {
      "cell_type": "code",
      "execution_count": 16,
      "metadata": {
        "colab": {},
        "colab_type": "code",
        "id": "1z8J7OyDojhW"
      },
      "outputs": [
        {
          "name": "stdout",
          "output_type": "stream",
          "text": [
            "Number of unique images: 193\n",
            "Number of unique 3s:  80\n",
            "Number of unique 6s:  69\n",
            "Number of unique contradicting labels (both 3 and 6):  44\n",
            "\n",
            "Initial number of images:  10338\n",
            "Remaining non-contradicting unique images:  149\n"
          ]
        }
      ],
      "source": [
        "_ = remove_contradicting(x_train_bin, y_train_nocon)"
      ]
    },
    {
      "cell_type": "markdown",
      "metadata": {
        "colab_type": "text",
        "id": "oLyxS9KlojhZ"
      },
      "source": [
        "The qubits at pixel indices with values that exceed a threshold, are rotated through an $X$ gate."
      ]
    },
    {
      "cell_type": "code",
      "execution_count": 17,
      "metadata": {
        "colab": {},
        "colab_type": "code",
        "id": "aOu_3-3ZGL61"
      },
      "outputs": [],
      "source": [
        "def convert_to_circuit(image):\n",
        "    \"\"\"Encode truncated classical image into quantum datapoint.\"\"\"\n",
        "    values = np.ndarray.flatten(image)\n",
        "    qubits = cirq.GridQubit.rect(4, 4)\n",
        "    circuit = cirq.Circuit()\n",
        "    for i, value in enumerate(values):\n",
        "        if value:\n",
        "            circuit.append(cirq.X(qubits[i]))\n",
        "    return circuit\n",
        "\n",
        "\n",
        "x_train_circ = [convert_to_circuit(x) for x in x_train_bin]\n",
        "x_test_circ = [convert_to_circuit(x) for x in x_test_bin]"
      ]
    },
    {
      "cell_type": "markdown",
      "metadata": {
        "colab_type": "text",
        "id": "zSCXqzOzojhd"
      },
      "source": [
        "Here is the circuit created for the first example (circuit diagrams do not show qubits with zero gates):"
      ]
    },
    {
      "cell_type": "code",
      "execution_count": 18,
      "metadata": {
        "colab": {},
        "colab_type": "code",
        "id": "w3POmUEUojhe",
        "scrolled": false
      },
      "outputs": [
        {
          "name": "stderr",
          "output_type": "stream",
          "text": [
            "findfont: Font family 'Arial' not found.\n",
            "findfont: Font family 'Arial' not found.\n",
            "findfont: Font family 'Arial' not found.\n",
            "findfont: Font family 'Arial' not found.\n"
          ]
        },
        {
          "data": {
            "image/svg+xml": [
              "<svg xmlns=\"http://www.w3.org/2000/svg\" width=\"169.517734375\" height=\"100.0\"><line x1=\"34.7588671875\" x2=\"139.517734375\" y1=\"25.0\" y2=\"25.0\" stroke=\"#1967d2\" stroke-width=\"1\" /><line x1=\"34.7588671875\" x2=\"139.517734375\" y1=\"75.0\" y2=\"75.0\" stroke=\"#1967d2\" stroke-width=\"1\" /><rect x=\"10.0\" y=\"5.0\" width=\"49.517734375\" height=\"40\" stroke=\"black\" fill=\"white\" stroke-width=\"0\" /><text x=\"34.7588671875\" y=\"25.0\" dominant-baseline=\"middle\" text-anchor=\"middle\" font-size=\"14px\" font-family=\"Arial\">(2, 2): </text><rect x=\"10.0\" y=\"55.0\" width=\"49.517734375\" height=\"40\" stroke=\"black\" fill=\"white\" stroke-width=\"0\" /><text x=\"34.7588671875\" y=\"75.0\" dominant-baseline=\"middle\" text-anchor=\"middle\" font-size=\"14px\" font-family=\"Arial\">(3, 1): </text><rect x=\"79.517734375\" y=\"5.0\" width=\"40\" height=\"40\" stroke=\"black\" fill=\"white\" stroke-width=\"1\" /><text x=\"99.517734375\" y=\"25.0\" dominant-baseline=\"middle\" text-anchor=\"middle\" font-size=\"18px\" font-family=\"Arial\">X</text><rect x=\"79.517734375\" y=\"55.0\" width=\"40\" height=\"40\" stroke=\"black\" fill=\"white\" stroke-width=\"1\" /><text x=\"99.517734375\" y=\"75.0\" dominant-baseline=\"middle\" text-anchor=\"middle\" font-size=\"18px\" font-family=\"Arial\">X</text></svg>"
            ],
            "text/plain": [
              "<cirq.contrib.svg.svg.SVGCircuit at 0x7f2a3048ce50>"
            ]
          },
          "execution_count": 18,
          "metadata": {},
          "output_type": "execute_result"
        }
      ],
      "source": [
        "SVGCircuit(x_train_circ[0])"
      ]
    },
    {
      "cell_type": "markdown",
      "metadata": {
        "colab_type": "text",
        "id": "AEQMxCcBojhg"
      },
      "source": [
        "Compare this circuit to the indices where the image value exceeds the threshold:"
      ]
    },
    {
      "cell_type": "code",
      "execution_count": 19,
      "metadata": {
        "colab": {},
        "colab_type": "code",
        "id": "TBIsiXdtojhh"
      },
      "outputs": [
        {
          "data": {
            "text/plain": [
              "array([[2, 2],\n",
              "       [3, 1]])"
            ]
          },
          "execution_count": 19,
          "metadata": {},
          "output_type": "execute_result"
        }
      ],
      "source": [
        "bin_img = x_train_bin[0,:,:,0]\n",
        "indices = np.array(np.where(bin_img)).T\n",
        "indices"
      ]
    },
    {
      "cell_type": "markdown",
      "metadata": {
        "colab_type": "text",
        "id": "mWZ24w1Oojhk"
      },
      "source": [
        "Convert these `Cirq` circuits to tensors for `tfq`:"
      ]
    },
    {
      "cell_type": "code",
      "execution_count": 20,
      "metadata": {
        "colab": {},
        "colab_type": "code",
        "id": "IZStEMk4ojhk"
      },
      "outputs": [],
      "source": [
        "x_train_tfcirc = tfq.convert_to_tensor(x_train_circ)\n",
        "x_test_tfcirc = tfq.convert_to_tensor(x_test_circ)"
      ]
    },
    {
      "cell_type": "markdown",
      "metadata": {
        "colab_type": "text",
        "id": "4USiqeOqGL67"
      },
      "source": [
        "## 2. Quantum neural network\n",
        "\n",
        "There is little guidance for a quantum circuit structure that classifies images. Since the classification is based on the expectation of the readout qubit, <a href=\"https://arxiv.org/pdf/1802.06002.pdf\" class=\"external\">Farhi et al.</a> propose using two qubit gates, with the readout qubit always acted upon. This is similar in some ways to running small a <a href=\"https://arxiv.org/abs/1511.06464\" class=\"external\">Unitary RNN</a> across the pixels."
      ]
    },
    {
      "cell_type": "markdown",
      "metadata": {
        "colab_type": "text",
        "id": "knIzawEeojho"
      },
      "source": [
        "### 2.1 Build the model circuit\n",
        "\n",
        "This following example shows this layered approach. Each layer uses *n* instances of the same gate, with each of the data qubits acting on the readout qubit.\n",
        "\n",
        "Start with a simple class that will add a layer of these gates to a circuit:"
      ]
    },
    {
      "cell_type": "code",
      "execution_count": 21,
      "metadata": {
        "colab": {},
        "colab_type": "code",
        "id": "-hjxxgU5ojho"
      },
      "outputs": [],
      "source": [
        "class CircuitLayerBuilder():\n",
        "    def __init__(self, data_qubits, readout):\n",
        "        self.data_qubits = data_qubits\n",
        "        self.readout = readout\n",
        "    \n",
        "    def add_layer(self, circuit, gate, prefix):\n",
        "        for i, qubit in enumerate(self.data_qubits):\n",
        "            symbol = sympy.Symbol(prefix + '-' + str(i))\n",
        "            circuit.append(gate(qubit, self.readout)**symbol)"
      ]
    },
    {
      "cell_type": "markdown",
      "metadata": {
        "colab_type": "text",
        "id": "Sjo5hANFojhr"
      },
      "source": [
        "Build an example circuit layer to see how it looks:"
      ]
    },
    {
      "cell_type": "code",
      "execution_count": 22,
      "metadata": {
        "colab": {},
        "colab_type": "code",
        "id": "SzXWOpUGojhs"
      },
      "outputs": [
        {
          "name": "stderr",
          "output_type": "stream",
          "text": [
            "findfont: Font family 'Arial' not found.\n",
            "findfont: Font family 'Arial' not found.\n",
            "findfont: Font family 'Arial' not found.\n",
            "findfont: Font family 'Arial' not found.\n",
            "findfont: Font family 'Arial' not found.\n",
            "findfont: Font family 'Arial' not found.\n",
            "findfont: Font family 'Arial' not found.\n",
            "findfont: Font family 'Arial' not found.\n",
            "findfont: Font family 'Arial' not found.\n",
            "findfont: Font family 'Arial' not found.\n",
            "findfont: Font family 'Arial' not found.\n",
            "findfont: Font family 'Arial' not found.\n",
            "findfont: Font family 'Arial' not found.\n"
          ]
        },
        {
          "data": {
            "image/svg+xml": [
              "<svg xmlns=\"http://www.w3.org/2000/svg\" width=\"522.59953125\" height=\"250.0\"><line x1=\"39.810625\" x2=\"492.59953125000004\" y1=\"25.0\" y2=\"25.0\" stroke=\"#1967d2\" stroke-width=\"1\" /><line x1=\"39.810625\" x2=\"492.59953125000004\" y1=\"75.0\" y2=\"75.0\" stroke=\"#1967d2\" stroke-width=\"1\" /><line x1=\"39.810625\" x2=\"492.59953125000004\" y1=\"125.0\" y2=\"125.0\" stroke=\"#1967d2\" stroke-width=\"1\" /><line x1=\"39.810625\" x2=\"492.59953125000004\" y1=\"175.0\" y2=\"175.0\" stroke=\"#1967d2\" stroke-width=\"1\" /><line x1=\"39.810625\" x2=\"492.59953125000004\" y1=\"225.0\" y2=\"225.0\" stroke=\"#1967d2\" stroke-width=\"1\" /><line x1=\"129.99353515625\" x2=\"129.99353515625\" y1=\"25.0\" y2=\"75.0\" stroke=\"black\" stroke-width=\"3\" /><line x1=\"230.73810546875004\" x2=\"230.73810546875004\" y1=\"25.0\" y2=\"125.0\" stroke=\"black\" stroke-width=\"3\" /><line x1=\"331.48267578125007\" x2=\"331.48267578125007\" y1=\"25.0\" y2=\"175.0\" stroke=\"black\" stroke-width=\"3\" /><line x1=\"432.22724609375007\" x2=\"432.22724609375007\" y1=\"25.0\" y2=\"225.0\" stroke=\"black\" stroke-width=\"3\" /><rect x=\"10.0\" y=\"5.0\" width=\"59.62125\" height=\"40\" stroke=\"black\" fill=\"white\" stroke-width=\"0\" /><text x=\"39.810625\" y=\"25.0\" dominant-baseline=\"middle\" text-anchor=\"middle\" font-size=\"14px\" font-family=\"Arial\">(-1, -1): </text><rect x=\"10.0\" y=\"55.0\" width=\"59.62125\" height=\"40\" stroke=\"black\" fill=\"white\" stroke-width=\"0\" /><text x=\"39.810625\" y=\"75.0\" dominant-baseline=\"middle\" text-anchor=\"middle\" font-size=\"14px\" font-family=\"Arial\">(0, 0): </text><rect x=\"10.0\" y=\"105.0\" width=\"59.62125\" height=\"40\" stroke=\"black\" fill=\"white\" stroke-width=\"0\" /><text x=\"39.810625\" y=\"125.0\" dominant-baseline=\"middle\" text-anchor=\"middle\" font-size=\"14px\" font-family=\"Arial\">(1, 0): </text><rect x=\"10.0\" y=\"155.0\" width=\"59.62125\" height=\"40\" stroke=\"black\" fill=\"white\" stroke-width=\"0\" /><text x=\"39.810625\" y=\"175.0\" dominant-baseline=\"middle\" text-anchor=\"middle\" font-size=\"14px\" font-family=\"Arial\">(2, 0): </text><rect x=\"10.0\" y=\"205.0\" width=\"59.62125\" height=\"40\" stroke=\"black\" fill=\"white\" stroke-width=\"0\" /><text x=\"39.810625\" y=\"225.0\" dominant-baseline=\"middle\" text-anchor=\"middle\" font-size=\"14px\" font-family=\"Arial\">(3, 0): </text><rect x=\"89.62125\" y=\"55.0\" width=\"80.74457031250002\" height=\"40\" stroke=\"black\" fill=\"white\" stroke-width=\"1\" /><text x=\"129.99353515625\" y=\"75.0\" dominant-baseline=\"middle\" text-anchor=\"middle\" font-size=\"14px\" font-family=\"Arial\">XX^(xx-0)</text><rect x=\"89.62125\" y=\"5.0\" width=\"80.74457031250002\" height=\"40\" stroke=\"black\" fill=\"white\" stroke-width=\"1\" /><text x=\"129.99353515625\" y=\"25.0\" dominant-baseline=\"middle\" text-anchor=\"middle\" font-size=\"14px\" font-family=\"Arial\">XX</text><rect x=\"190.36582031250003\" y=\"105.0\" width=\"80.74457031250002\" height=\"40\" stroke=\"black\" fill=\"white\" stroke-width=\"1\" /><text x=\"230.73810546875004\" y=\"125.0\" dominant-baseline=\"middle\" text-anchor=\"middle\" font-size=\"14px\" font-family=\"Arial\">XX^(xx-1)</text><rect x=\"190.36582031250003\" y=\"5.0\" width=\"80.74457031250002\" height=\"40\" stroke=\"black\" fill=\"white\" stroke-width=\"1\" /><text x=\"230.73810546875004\" y=\"25.0\" dominant-baseline=\"middle\" text-anchor=\"middle\" font-size=\"14px\" font-family=\"Arial\">XX</text><rect x=\"291.11039062500004\" y=\"155.0\" width=\"80.74457031250002\" height=\"40\" stroke=\"black\" fill=\"white\" stroke-width=\"1\" /><text x=\"331.48267578125007\" y=\"175.0\" dominant-baseline=\"middle\" text-anchor=\"middle\" font-size=\"14px\" font-family=\"Arial\">XX^(xx-2)</text><rect x=\"291.11039062500004\" y=\"5.0\" width=\"80.74457031250002\" height=\"40\" stroke=\"black\" fill=\"white\" stroke-width=\"1\" /><text x=\"331.48267578125007\" y=\"25.0\" dominant-baseline=\"middle\" text-anchor=\"middle\" font-size=\"14px\" font-family=\"Arial\">XX</text><rect x=\"391.85496093750004\" y=\"205.0\" width=\"80.74457031250002\" height=\"40\" stroke=\"black\" fill=\"white\" stroke-width=\"1\" /><text x=\"432.22724609375007\" y=\"225.0\" dominant-baseline=\"middle\" text-anchor=\"middle\" font-size=\"14px\" font-family=\"Arial\">XX^(xx-3)</text><rect x=\"391.85496093750004\" y=\"5.0\" width=\"80.74457031250002\" height=\"40\" stroke=\"black\" fill=\"white\" stroke-width=\"1\" /><text x=\"432.22724609375007\" y=\"25.0\" dominant-baseline=\"middle\" text-anchor=\"middle\" font-size=\"14px\" font-family=\"Arial\">XX</text></svg>"
            ],
            "text/plain": [
              "<cirq.contrib.svg.svg.SVGCircuit at 0x7f29f15d4ca0>"
            ]
          },
          "execution_count": 22,
          "metadata": {},
          "output_type": "execute_result"
        }
      ],
      "source": [
        "demo_builder = CircuitLayerBuilder(data_qubits = cirq.GridQubit.rect(4,1),\n",
        "                                   readout=cirq.GridQubit(-1,-1))\n",
        "\n",
        "circuit = cirq.Circuit()\n",
        "demo_builder.add_layer(circuit, gate = cirq.XX, prefix='xx')\n",
        "SVGCircuit(circuit)"
      ]
    },
    {
      "cell_type": "markdown",
      "metadata": {
        "colab_type": "text",
        "id": "T-QhPE1pojhu"
      },
      "source": [
        "Now build a two-layered model, matching the data-circuit size, and include the preparation and readout operations."
      ]
    },
    {
      "cell_type": "code",
      "execution_count": 23,
      "metadata": {
        "colab": {},
        "colab_type": "code",
        "id": "JiALbpwRGL69"
      },
      "outputs": [],
      "source": [
        "def create_quantum_model():\n",
        "    \"\"\"Create a QNN model circuit and readout operation to go along with it.\"\"\"\n",
        "    data_qubits = cirq.GridQubit.rect(4, 4)  # a 4x4 grid.\n",
        "    readout = cirq.GridQubit(-1, -1)         # a single qubit at [-1,-1]\n",
        "    circuit = cirq.Circuit()\n",
        "    \n",
        "    # Prepare the readout qubit.\n",
        "    circuit.append(cirq.X(readout))\n",
        "    circuit.append(cirq.H(readout))\n",
        "    \n",
        "    builder = CircuitLayerBuilder(\n",
        "        data_qubits = data_qubits,\n",
        "        readout=readout)\n",
        "\n",
        "    # Then add layers (experiment by adding more).\n",
        "    builder.add_layer(circuit, cirq.XX, \"xx1\")\n",
        "    builder.add_layer(circuit, cirq.ZZ, \"zz1\")\n",
        "\n",
        "    # Finally, prepare the readout qubit.\n",
        "    circuit.append(cirq.H(readout))\n",
        "\n",
        "    return circuit, cirq.Z(readout)"
      ]
    },
    {
      "cell_type": "code",
      "execution_count": 24,
      "metadata": {
        "colab": {},
        "colab_type": "code",
        "id": "2QZvVh7vojhx"
      },
      "outputs": [],
      "source": [
        "model_circuit, model_readout = create_quantum_model()"
      ]
    },
    {
      "cell_type": "markdown",
      "metadata": {
        "colab_type": "text",
        "id": "LY7vbY6yfABE"
      },
      "source": [
        "### 2.2 Wrap the model-circuit in a tfq-keras model\n",
        "\n",
        "Build the Keras model with the quantum components. This model is fed the \"quantum data\", from `x_train_circ`, that encodes the classical data. It uses a *Parametrized Quantum Circuit* layer, `tfq.layers.PQC`, to train the model circuit, on the quantum data.\n",
        "\n",
        "To classify these images, <a href=\"https://arxiv.org/pdf/1802.06002.pdf\" class=\"external\">Farhi et al.</a> proposed taking the expectation of a readout qubit in a parameterized circuit. The expectation returns a value between 1 and -1."
      ]
    },
    {
      "cell_type": "code",
      "execution_count": 25,
      "metadata": {
        "colab": {},
        "colab_type": "code",
        "id": "ZYdf_KOxojh0"
      },
      "outputs": [],
      "source": [
        "# Build the Keras model.\n",
        "model = tf.keras.Sequential([\n",
        "    # The input is the data-circuit, encoded as a tf.string\n",
        "    tf.keras.layers.Input(shape=(), dtype=tf.string),\n",
        "    # The PQC layer returns the expected value of the readout gate, range [-1,1].\n",
        "    tfq.layers.PQC(model_circuit, model_readout),\n",
        "])"
      ]
    },
    {
      "cell_type": "markdown",
      "metadata": {
        "colab_type": "text",
        "id": "jz-FbVc9ojh3"
      },
      "source": [
        "Next, describe the training procedure to the model, using the `compile` method.\n",
        "\n",
        "Since the the expected readout is in the range `[-1,1]`, optimizing the hinge loss is a somewhat natural fit. \n",
        "\n",
        "Note: Another valid approach would be to shift the output range to `[0,1]`, and treat it as the probability the model assigns to class `3`. This could be used with a standard a `tf.losses.BinaryCrossentropy` loss.\n",
        "\n",
        "To use the hinge loss here you need to make two small adjustments. First convert the labels, `y_train_nocon`, from boolean to `[-1,1]`, as expected by the hinge loss."
      ]
    },
    {
      "cell_type": "code",
      "execution_count": 26,
      "metadata": {
        "colab": {},
        "colab_type": "code",
        "id": "CgMNkC1Fojh5"
      },
      "outputs": [],
      "source": [
        "y_train_hinge = 2.0*y_train_nocon-1.0\n",
        "y_test_hinge = 2.0*y_test-1.0"
      ]
    },
    {
      "cell_type": "markdown",
      "metadata": {
        "colab_type": "text",
        "id": "5nwnveDiojh7"
      },
      "source": [
        "Second, use a custiom `hinge_accuracy` metric that correctly handles `[-1, 1]` as the `y_true` labels argument. \n",
        "`tf.losses.BinaryAccuracy(threshold=0.0)` expects `y_true` to be a boolean, and so can't be used with hinge loss)."
      ]
    },
    {
      "cell_type": "code",
      "execution_count": 27,
      "metadata": {
        "colab": {},
        "colab_type": "code",
        "id": "3XKtZ_TEojh8"
      },
      "outputs": [],
      "source": [
        "def hinge_accuracy(y_true, y_pred):\n",
        "    y_true = tf.squeeze(y_true) > 0.0\n",
        "    y_pred = tf.squeeze(y_pred) > 0.0\n",
        "    result = tf.cast(y_true == y_pred, tf.float32)\n",
        "\n",
        "    return tf.reduce_mean(result)"
      ]
    },
    {
      "cell_type": "code",
      "execution_count": 28,
      "metadata": {
        "colab": {},
        "colab_type": "code",
        "id": "FlpETlLRojiA"
      },
      "outputs": [],
      "source": [
        "model.compile(\n",
        "    loss=tf.keras.losses.Hinge(),\n",
        "    optimizer=tf.keras.optimizers.Adam(),\n",
        "    metrics=[hinge_accuracy])"
      ]
    },
    {
      "cell_type": "code",
      "execution_count": 29,
      "metadata": {
        "colab": {},
        "colab_type": "code",
        "id": "jkHq2RstojiC"
      },
      "outputs": [
        {
          "name": "stdout",
          "output_type": "stream",
          "text": [
            "Model: \"sequential\"\n",
            "_________________________________________________________________\n",
            " Layer (type)                Output Shape              Param #   \n",
            "=================================================================\n",
            " pqc (PQC)                   (None, 1)                 32        \n",
            "                                                                 \n",
            "=================================================================\n",
            "Total params: 32\n",
            "Trainable params: 32\n",
            "Non-trainable params: 0\n",
            "_________________________________________________________________\n",
            "None\n"
          ]
        }
      ],
      "source": [
        "print(model.summary())"
      ]
    },
    {
      "cell_type": "markdown",
      "metadata": {
        "colab_type": "text",
        "id": "lsuOzDYblA9s"
      },
      "source": [
        "### Train the quantum model\n",
        "\n",
        "Now train the model—this takes about 45 min. If you don't want to wait that long, use a small subset of the data (set `NUM_EXAMPLES=500`, below). This doesn't really affect the model's progress during training (it only has 32 parameters, and doesn't need much data to constrain these). Using fewer examples just ends training earlier (5min), but runs long enough to show that it is making progress in the validation logs."
      ]
    },
    {
      "cell_type": "code",
      "execution_count": 30,
      "metadata": {
        "colab": {},
        "colab_type": "code",
        "id": "n8vuQpSLlBV2"
      },
      "outputs": [],
      "source": [
        "EPOCHS = 3\n",
        "BATCH_SIZE = 32\n",
        "\n",
        "NUM_EXAMPLES = len(x_train_tfcirc)"
      ]
    },
    {
      "cell_type": "code",
      "execution_count": 31,
      "metadata": {
        "colab": {},
        "colab_type": "code",
        "id": "qJnNG-3JojiI"
      },
      "outputs": [],
      "source": [
        "x_train_tfcirc_sub = x_train_tfcirc[:NUM_EXAMPLES]\n",
        "y_train_hinge_sub = y_train_hinge[:NUM_EXAMPLES]"
      ]
    },
    {
      "cell_type": "markdown",
      "metadata": {
        "colab_type": "text",
        "id": "QMSdgGC1GL7D"
      },
      "source": [
        "Training this model to convergence should achieve >85% accuracy on the test set."
      ]
    },
    {
      "cell_type": "code",
      "execution_count": 32,
      "metadata": {
        "colab": {},
        "colab_type": "code",
        "id": "Ya9qP3KkojiM"
      },
      "outputs": [
        {
          "name": "stdout",
          "output_type": "stream",
          "text": [
            "Epoch 1/3\n"
          ]
        },
        {
          "name": "stdout",
          "output_type": "stream",
          "text": [
            "324/324 [==============================] - 348s 1s/step - loss: 0.7878 - hinge_accuracy: 0.6615 - val_loss: 0.3821 - val_hinge_accuracy: 0.8090\n",
            "Epoch 2/3\n",
            "324/324 [==============================] - 342s 1s/step - loss: 0.3884 - hinge_accuracy: 0.8177 - val_loss: 0.3405 - val_hinge_accuracy: 0.8609\n",
            "Epoch 3/3\n",
            "324/324 [==============================] - 332s 1s/step - loss: 0.3583 - hinge_accuracy: 0.8716 - val_loss: 0.3314 - val_hinge_accuracy: 0.8740\n",
            "62/62 [==============================] - 4s 65ms/step - loss: 0.3314 - hinge_accuracy: 0.8740\n"
          ]
        }
      ],
      "source": [
        "qnn_history = model.fit(\n",
        "      x_train_tfcirc_sub, y_train_hinge_sub,\n",
        "      batch_size=32,\n",
        "      epochs=EPOCHS,\n",
        "      verbose=1,\n",
        "      validation_data=(x_test_tfcirc, y_test_hinge))\n",
        "\n",
        "qnn_results = model.evaluate(x_test_tfcirc, y_test)"
      ]
    },
    {
      "cell_type": "markdown",
      "metadata": {
        "colab_type": "text",
        "id": "3ER7B7aaojiP"
      },
      "source": [
        "Note: The training accuracy reports the average over the epoch. The validation accuracy is evaluated at the end of each epoch."
      ]
    },
    {
      "cell_type": "markdown",
      "metadata": {
        "colab_type": "text",
        "id": "8952YvuWGL7J"
      },
      "source": [
        "## 3. Classical neural network\n",
        "\n",
        "While the quantum neural network works for this simplified MNIST problem, a basic classical neural network can easily outperform a QNN on this task. After a single epoch, a classical neural network can achieve >98% accuracy on the holdout set.\n",
        "\n",
        "In the following example, a classical neural network is used for for the 3-6 classification problem using the entire 28x28 image instead of subsampling the image. This easily converges to nearly 100% accuracy of the test set."
      ]
    },
    {
      "cell_type": "code",
      "execution_count": 33,
      "metadata": {
        "colab": {},
        "colab_type": "code",
        "id": "pZofEHhLGL7L"
      },
      "outputs": [
        {
          "name": "stdout",
          "output_type": "stream",
          "text": [
            "Model: \"sequential_1\"\n",
            "_________________________________________________________________\n",
            " Layer (type)                Output Shape              Param #   \n",
            "=================================================================\n",
            " conv2d (Conv2D)             (None, 26, 26, 32)        320       \n",
            "                                                                 \n",
            " conv2d_1 (Conv2D)           (None, 24, 24, 64)        18496     \n",
            "                                                                 \n",
            " max_pooling2d (MaxPooling2D  (None, 12, 12, 64)       0         \n",
            " )                                                               \n",
            "                                                                 \n",
            " dropout (Dropout)           (None, 12, 12, 64)        0         \n",
            "                                                                 \n",
            " flatten (Flatten)           (None, 9216)              0         \n",
            "                                                                 \n",
            " dense (Dense)               (None, 128)               1179776   \n",
            "                                                                 \n",
            " dropout_1 (Dropout)         (None, 128)               0         \n",
            "                                                                 \n",
            " dense_1 (Dense)             (None, 1)                 129       \n",
            "                                                                 \n",
            "=================================================================\n",
            "Total params: 1,198,721\n",
            "Trainable params: 1,198,721\n",
            "Non-trainable params: 0\n",
            "_________________________________________________________________\n"
          ]
        }
      ],
      "source": [
        "def create_classical_model():\n",
        "    # A simple model based off LeNet from https://keras.io/examples/mnist_cnn/\n",
        "    model = tf.keras.Sequential()\n",
        "    model.add(tf.keras.layers.Conv2D(32, [3, 3], activation='relu', input_shape=(28,28,1)))\n",
        "    model.add(tf.keras.layers.Conv2D(64, [3, 3], activation='relu'))\n",
        "    model.add(tf.keras.layers.MaxPooling2D(pool_size=(2, 2)))\n",
        "    model.add(tf.keras.layers.Dropout(0.25))\n",
        "    model.add(tf.keras.layers.Flatten())\n",
        "    model.add(tf.keras.layers.Dense(128, activation='relu'))\n",
        "    model.add(tf.keras.layers.Dropout(0.5))\n",
        "    model.add(tf.keras.layers.Dense(1))\n",
        "    return model\n",
        "\n",
        "\n",
        "model = create_classical_model()\n",
        "model.compile(loss=tf.keras.losses.BinaryCrossentropy(from_logits=True),\n",
        "              optimizer=tf.keras.optimizers.Adam(),\n",
        "              metrics=['accuracy'])\n",
        "\n",
        "model.summary()"
      ]
    },
    {
      "cell_type": "code",
      "execution_count": 34,
      "metadata": {
        "colab": {},
        "colab_type": "code",
        "id": "CiAJl7sZojiU"
      },
      "outputs": [
        {
          "name": "stdout",
          "output_type": "stream",
          "text": [
            "95/95 [==============================] - 11s 106ms/step - loss: 0.0410 - accuracy: 0.9826 - val_loss: 0.0018 - val_accuracy: 1.0000\n",
            "62/62 [==============================] - 0s 6ms/step - loss: 0.0018 - accuracy: 1.0000\n"
          ]
        }
      ],
      "source": [
        "model.fit(x_train,\n",
        "          y_train,\n",
        "          batch_size=128,\n",
        "          epochs=1,\n",
        "          verbose=1,\n",
        "          validation_data=(x_test, y_test))\n",
        "\n",
        "cnn_results = model.evaluate(x_test, y_test)"
      ]
    },
    {
      "cell_type": "markdown",
      "metadata": {
        "colab_type": "text",
        "id": "X5-5BVJaojiZ"
      },
      "source": [
        "The above model has nearly 1.2M parameters. For a more fair comparison, try a 37-parameter model, on the subsampled images:"
      ]
    },
    {
      "cell_type": "code",
      "execution_count": 35,
      "metadata": {
        "colab": {},
        "colab_type": "code",
        "id": "70TOM6r-ojiZ",
        "scrolled": false
      },
      "outputs": [
        {
          "name": "stdout",
          "output_type": "stream",
          "text": [
            "Model: \"sequential_2\"\n",
            "_________________________________________________________________\n",
            " Layer (type)                Output Shape              Param #   \n",
            "=================================================================\n",
            " flatten_1 (Flatten)         (None, 16)                0         \n",
            "                                                                 \n",
            " dense_2 (Dense)             (None, 2)                 34        \n",
            "                                                                 \n",
            " dense_3 (Dense)             (None, 1)                 3         \n",
            "                                                                 \n",
            "=================================================================\n",
            "Total params: 37\n",
            "Trainable params: 37\n",
            "Non-trainable params: 0\n",
            "_________________________________________________________________\n"
          ]
        }
      ],
      "source": [
        "def create_fair_classical_model():\n",
        "    # A simple model based off LeNet from https://keras.io/examples/mnist_cnn/\n",
        "    model = tf.keras.Sequential()\n",
        "    model.add(tf.keras.layers.Flatten(input_shape=(4,4,1)))\n",
        "    model.add(tf.keras.layers.Dense(2, activation='relu'))\n",
        "    model.add(tf.keras.layers.Dense(1))\n",
        "    return model\n",
        "\n",
        "\n",
        "model = create_fair_classical_model()\n",
        "model.compile(loss=tf.keras.losses.BinaryCrossentropy(from_logits=True),\n",
        "              optimizer=tf.keras.optimizers.Adam(),\n",
        "              metrics=['accuracy'])\n",
        "\n",
        "model.summary()"
      ]
    },
    {
      "cell_type": "code",
      "execution_count": 36,
      "metadata": {
        "colab": {},
        "colab_type": "code",
        "id": "lA_Fx-8gojid"
      },
      "outputs": [
        {
          "name": "stdout",
          "output_type": "stream",
          "text": [
            "Epoch 1/20\n"
          ]
        },
        {
          "name": "stdout",
          "output_type": "stream",
          "text": [
            "81/81 - 0s - loss: 0.6088 - accuracy: 0.7348 - val_loss: 0.5780 - val_accuracy: 0.7256 - 481ms/epoch - 6ms/step\n",
            "Epoch 2/20\n",
            "81/81 - 0s - loss: 0.5634 - accuracy: 0.8036 - val_loss: 0.5215 - val_accuracy: 0.8186 - 89ms/epoch - 1ms/step\n",
            "Epoch 3/20\n",
            "81/81 - 0s - loss: 0.4972 - accuracy: 0.8140 - val_loss: 0.4565 - val_accuracy: 0.7978 - 92ms/epoch - 1ms/step\n",
            "Epoch 4/20\n",
            "81/81 - 0s - loss: 0.4315 - accuracy: 0.8311 - val_loss: 0.3973 - val_accuracy: 0.8054 - 93ms/epoch - 1ms/step\n",
            "Epoch 5/20\n",
            "81/81 - 0s - loss: 0.3770 - accuracy: 0.8358 - val_loss: 0.3522 - val_accuracy: 0.8089 - 95ms/epoch - 1ms/step\n",
            "Epoch 6/20\n",
            "81/81 - 0s - loss: 0.3363 - accuracy: 0.8421 - val_loss: 0.3189 - val_accuracy: 0.8166 - 93ms/epoch - 1ms/step\n",
            "Epoch 7/20\n",
            "81/81 - 0s - loss: 0.3068 - accuracy: 0.8492 - val_loss: 0.2945 - val_accuracy: 0.8252 - 89ms/epoch - 1ms/step\n",
            "Epoch 8/20\n",
            "81/81 - 0s - loss: 0.2853 - accuracy: 0.8530 - val_loss: 0.2767 - val_accuracy: 0.8262 - 90ms/epoch - 1ms/step\n",
            "Epoch 9/20\n",
            "81/81 - 0s - loss: 0.2697 - accuracy: 0.8541 - val_loss: 0.2639 - val_accuracy: 0.8262 - 107ms/epoch - 1ms/step\n",
            "Epoch 10/20\n",
            "81/81 - 0s - loss: 0.2583 - accuracy: 0.8558 - val_loss: 0.2544 - val_accuracy: 0.8267 - 102ms/epoch - 1ms/step\n",
            "Epoch 11/20\n",
            "81/81 - 0s - loss: 0.2497 - accuracy: 0.8566 - val_loss: 0.2469 - val_accuracy: 0.8272 - 96ms/epoch - 1ms/step\n",
            "Epoch 12/20\n",
            "81/81 - 0s - loss: 0.2430 - accuracy: 0.8583 - val_loss: 0.2407 - val_accuracy: 0.8288 - 97ms/epoch - 1ms/step\n",
            "Epoch 13/20\n",
            "81/81 - 0s - loss: 0.2378 - accuracy: 0.8694 - val_loss: 0.2365 - val_accuracy: 0.8288 - 101ms/epoch - 1ms/step\n",
            "Epoch 14/20\n",
            "81/81 - 0s - loss: 0.2338 - accuracy: 0.8778 - val_loss: 0.2326 - val_accuracy: 0.8674 - 98ms/epoch - 1ms/step\n",
            "Epoch 15/20\n",
            "81/81 - 0s - loss: 0.2307 - accuracy: 0.8760 - val_loss: 0.2296 - val_accuracy: 0.8674 - 97ms/epoch - 1ms/step\n",
            "Epoch 16/20\n",
            "81/81 - 0s - loss: 0.2281 - accuracy: 0.8796 - val_loss: 0.2272 - val_accuracy: 0.8674 - 96ms/epoch - 1ms/step\n",
            "Epoch 17/20\n",
            "81/81 - 0s - loss: 0.2262 - accuracy: 0.8796 - val_loss: 0.2252 - val_accuracy: 0.8674 - 91ms/epoch - 1ms/step\n",
            "Epoch 18/20\n",
            "81/81 - 0s - loss: 0.2246 - accuracy: 0.8797 - val_loss: 0.2238 - val_accuracy: 0.8674 - 90ms/epoch - 1ms/step\n",
            "Epoch 19/20\n",
            "81/81 - 0s - loss: 0.2233 - accuracy: 0.8798 - val_loss: 0.2230 - val_accuracy: 0.8674 - 95ms/epoch - 1ms/step\n",
            "Epoch 20/20\n",
            "81/81 - 0s - loss: 0.2224 - accuracy: 0.8800 - val_loss: 0.2215 - val_accuracy: 0.8674 - 87ms/epoch - 1ms/step\n",
            "62/62 [==============================] - 0s 703us/step - loss: 0.2215 - accuracy: 0.8674\n"
          ]
        }
      ],
      "source": [
        "model.fit(x_train_bin,\n",
        "          y_train_nocon,\n",
        "          batch_size=128,\n",
        "          epochs=20,\n",
        "          verbose=2,\n",
        "          validation_data=(x_test_bin, y_test))\n",
        "\n",
        "fair_nn_results = model.evaluate(x_test_bin, y_test)"
      ]
    },
    {
      "cell_type": "markdown",
      "metadata": {
        "colab_type": "text",
        "id": "RH3mam7EGL7N"
      },
      "source": [
        "## 4. Comparison\n",
        "\n",
        "Higher resolution input and a more powerful model make this problem easy for the CNN. While a classical model of similar power (~32 parameters) trains to a similar accuracy in a fraction of the time. One way or the other, the classical neural network easily outperforms the quantum neural network. For classical data, it is difficult to beat a classical neural network."
      ]
    },
    {
      "cell_type": "code",
      "execution_count": 37,
      "metadata": {
        "colab": {},
        "colab_type": "code",
        "id": "NOMeN7pMGL7P"
      },
      "outputs": [
        {
          "data": {
            "image/png": "[encoded data removed]",
            "text/plain": [
              "<Figure size 640x480 with 1 Axes>"
            ]
          },
          "metadata": {},
          "output_type": "display_data"
        }
      ],
      "source": [
        "qnn_accuracy = qnn_results[1]\n",
        "cnn_accuracy = cnn_results[1]\n",
        "fair_nn_accuracy = fair_nn_results[1]\n",
        "\n",
        "ax = sns.barplot(x=[\"Quantum\", \"Classical, full\", \"Classical, fair\"],\n",
        "            y=[qnn_accuracy, cnn_accuracy, fair_nn_accuracy])\n",
        "for p in ax.patches:\n",
        "    ax.annotate(format(p.get_height(), '.2f'),\n",
        "                (p.get_x() + p.get_width() / 2., p.get_height()),\n",
        "                ha = 'center', va = 'center',\n",
        "                xytext = (0, 7),\n",
        "                textcoords = 'offset points')\n",
        "plt.show()"
      ]
    },
    {
      "cell_type": "code",
      "execution_count": 38,
      "metadata": {},
      "outputs": [
        {
          "name": "stdout",
          "output_type": "stream",
          "text": [
            "Quantum model accuracy: 0.8739919066429138\n",
            "Classical, full data model accuracy: 1.0\n",
            "Classical, fair data model accuracy: 0.8673780560493469\n"
          ]
        }
      ],
      "source": [
        "print(\"Quantum model accuracy:\", qnn_accuracy)\n",
        "print(\"Classical, full data model accuracy:\", cnn_accuracy)\n",
        "print(\"Classical, fair data model accuracy:\", fair_nn_accuracy)"
      ]
    },
    {
      "cell_type": "markdown",
      "metadata": {},
      "source": [
        "# Teste vários modelos clássicos"
      ]
    },
    {
      "cell_type": "code",
      "execution_count": null,
      "metadata": {},
      "outputs": [],
      "source": [
        "filtered_images = {\n",
        "    \"Bilinear\": x_test_bilinear,\n",
        "    \"Lanczos3\": x_test_lanczos3,\n",
        "    \"Lanczos5\": x_test_lanczos5,\n",
        "    \"Mitchellcubic\": x_test_mitchellcubic,\n",
        "    \"Nearest\": x_test_nearest,\n",
        "    \"Area\": x_test_area,\n",
        "    \"Gaussian\": x_test_gaussian,\n",
        "    \"Bicubic\": x_test_bicubic,\n",
        "    \"Tent\": x_test_hat_tent\n",
        "}"
      ]
    },
    {
      "cell_type": "code",
      "execution_count": 39,
      "metadata": {},
      "outputs": [
        {
          "name": "stdout",
          "output_type": "stream",
          "text": [
            "Model: \"sequential_3\"\n",
            "_________________________________________________________________\n",
            " Layer (type)                Output Shape              Param #   \n",
            "=================================================================\n",
            " flatten_2 (Flatten)         (None, 16)                0         \n",
            "                                                                 \n",
            " dense_4 (Dense)             (None, 1)                 17        \n",
            "                                                                 \n",
            "=================================================================\n",
            "Total params: 17\n",
            "Trainable params: 17\n",
            "Non-trainable params: 0\n",
            "_________________________________________________________________\n",
            "Epoch 1/20\n",
            "81/81 - 0s - loss: 0.7271 - accuracy: 0.4903 - val_loss: 0.6984 - val_accuracy: 0.5020 - 410ms/epoch - 5ms/step\n",
            "Epoch 2/20\n",
            "81/81 - 0s - loss: 0.6842 - accuracy: 0.5448 - val_loss: 0.6585 - val_accuracy: 0.5051 - 85ms/epoch - 1ms/step\n",
            "Epoch 3/20\n",
            "81/81 - 0s - loss: 0.6455 - accuracy: 0.5501 - val_loss: 0.6225 - val_accuracy: 0.5112 - 86ms/epoch - 1ms/step\n",
            "Epoch 4/20\n",
            "81/81 - 0s - loss: 0.6107 - accuracy: 0.5615 - val_loss: 0.5900 - val_accuracy: 0.5147 - 90ms/epoch - 1ms/step\n",
            "Epoch 5/20\n",
            "81/81 - 0s - loss: 0.5794 - accuracy: 0.5686 - val_loss: 0.5602 - val_accuracy: 0.5285 - 103ms/epoch - 1ms/step\n",
            "Epoch 6/20\n",
            "81/81 - 0s - loss: 0.5510 - accuracy: 0.6031 - val_loss: 0.5336 - val_accuracy: 0.5737 - 98ms/epoch - 1ms/step\n",
            "Epoch 7/20\n",
            "81/81 - 0s - loss: 0.5255 - accuracy: 0.6244 - val_loss: 0.5094 - val_accuracy: 0.5742 - 101ms/epoch - 1ms/step\n",
            "Epoch 8/20\n",
            "81/81 - 0s - loss: 0.5025 - accuracy: 0.6970 - val_loss: 0.4876 - val_accuracy: 0.6997 - 84ms/epoch - 1ms/step\n",
            "Epoch 9/20\n",
            "81/81 - 0s - loss: 0.4817 - accuracy: 0.7369 - val_loss: 0.4676 - val_accuracy: 0.7226 - 90ms/epoch - 1ms/step\n",
            "Epoch 10/20\n",
            "81/81 - 0s - loss: 0.4628 - accuracy: 0.7578 - val_loss: 0.4497 - val_accuracy: 0.7226 - 86ms/epoch - 1ms/step\n",
            "Epoch 11/20\n",
            "81/81 - 0s - loss: 0.4457 - accuracy: 0.7581 - val_loss: 0.4333 - val_accuracy: 0.7231 - 83ms/epoch - 1ms/step\n",
            "Epoch 12/20\n",
            "81/81 - 0s - loss: 0.4301 - accuracy: 0.8247 - val_loss: 0.4184 - val_accuracy: 0.7967 - 96ms/epoch - 1ms/step\n",
            "Epoch 13/20\n",
            "81/81 - 0s - loss: 0.4159 - accuracy: 0.8213 - val_loss: 0.4051 - val_accuracy: 0.7967 - 96ms/epoch - 1ms/step\n",
            "Epoch 14/20\n",
            "81/81 - 0s - loss: 0.4029 - accuracy: 0.8340 - val_loss: 0.3925 - val_accuracy: 0.8364 - 90ms/epoch - 1ms/step\n",
            "Epoch 15/20\n",
            "81/81 - 0s - loss: 0.3910 - accuracy: 0.8328 - val_loss: 0.3811 - val_accuracy: 0.8410 - 95ms/epoch - 1ms/step\n",
            "Epoch 16/20\n",
            "81/81 - 0s - loss: 0.3801 - accuracy: 0.8496 - val_loss: 0.3707 - val_accuracy: 0.8425 - 98ms/epoch - 1ms/step\n",
            "Epoch 17/20\n",
            "81/81 - 0s - loss: 0.3701 - accuracy: 0.8496 - val_loss: 0.3609 - val_accuracy: 0.8425 - 98ms/epoch - 1ms/step\n",
            "Epoch 18/20\n",
            "81/81 - 0s - loss: 0.3608 - accuracy: 0.8536 - val_loss: 0.3522 - val_accuracy: 0.8476 - 94ms/epoch - 1ms/step\n",
            "Epoch 19/20\n",
            "81/81 - 0s - loss: 0.3522 - accuracy: 0.8554 - val_loss: 0.3438 - val_accuracy: 0.8476 - 93ms/epoch - 1ms/step\n",
            "Epoch 20/20\n",
            "81/81 - 0s - loss: 0.3443 - accuracy: 0.8554 - val_loss: 0.3362 - val_accuracy: 0.8481 - 91ms/epoch - 1ms/step\n",
            "62/62 [==============================] - 0s 847us/step - loss: 0.3362 - accuracy: 0.8481\n",
            "Perceptron model accuracy: 0.8480691313743591\n"
          ]
        }
      ],
      "source": [
        "def create_perceptron():\n",
        "    model = tf.keras.Sequential()\n",
        "    model.add(tf.keras.layers.Flatten(input_shape=(4,4,1)))\n",
        "    model.add(tf.keras.layers.Dense(1))\n",
        "    return model\n",
        "\n",
        "model = create_perceptron()\n",
        "model.compile(loss=tf.keras.losses.BinaryCrossentropy(from_logits=True),\n",
        "              optimizer=tf.keras.optimizers.Adam(),\n",
        "              metrics=['accuracy'])\n",
        "\n",
        "model.summary()\n",
        "\n",
        "model.fit(x_train_bin,\n",
        "            y_train_nocon,\n",
        "            batch_size=128,\n",
        "            epochs=20,\n",
        "            verbose=2,\n",
        "            validation_data=(x_test_bin, y_test))\n",
        "\n",
        "perceptron_results = model.evaluate(x_test_bin, y_test)\n",
        "\n",
        "perceptron_accuracy = perceptron_results[1]\n",
        "\n",
        "print(\"Perceptron model accuracy:\", perceptron_accuracy)"
      ]
    },
    {
      "cell_type": "code",
      "execution_count": 41,
      "metadata": {},
      "outputs": [
        {
          "name": "stdout",
          "output_type": "stream",
          "text": [
            "Model: \"sequential_5\"\n",
            "_________________________________________________________________\n",
            " Layer (type)                Output Shape              Param #   \n",
            "=================================================================\n",
            " flatten_4 (Flatten)         (None, 16)                0         \n",
            "                                                                 \n",
            " dense_7 (Dense)             (None, 4)                 68        \n",
            "                                                                 \n",
            " dense_8 (Dense)             (None, 1)                 5         \n",
            "                                                                 \n",
            "=================================================================\n",
            "Total params: 73\n",
            "Trainable params: 73\n",
            "Non-trainable params: 0\n",
            "_________________________________________________________________\n",
            "Epoch 1/20\n",
            "81/81 - 1s - loss: 0.5887 - accuracy: 0.6596 - val_loss: 0.5441 - val_accuracy: 0.6423 - 566ms/epoch - 7ms/step\n",
            "Epoch 2/20\n",
            "81/81 - 0s - loss: 0.5133 - accuracy: 0.7255 - val_loss: 0.4672 - val_accuracy: 0.7729 - 104ms/epoch - 1ms/step\n",
            "Epoch 3/20\n",
            "81/81 - 0s - loss: 0.4392 - accuracy: 0.8042 - val_loss: 0.3985 - val_accuracy: 0.7947 - 103ms/epoch - 1ms/step\n",
            "Epoch 4/20\n",
            "81/81 - 0s - loss: 0.3758 - accuracy: 0.8258 - val_loss: 0.3425 - val_accuracy: 0.8272 - 103ms/epoch - 1ms/step\n",
            "Epoch 5/20\n",
            "81/81 - 0s - loss: 0.3268 - accuracy: 0.8464 - val_loss: 0.3024 - val_accuracy: 0.8298 - 93ms/epoch - 1ms/step\n",
            "Epoch 6/20\n",
            "81/81 - 0s - loss: 0.2926 - accuracy: 0.8501 - val_loss: 0.2755 - val_accuracy: 0.8303 - 99ms/epoch - 1ms/step\n",
            "Epoch 7/20\n",
            "81/81 - 0s - loss: 0.2699 - accuracy: 0.8588 - val_loss: 0.2576 - val_accuracy: 0.8689 - 100ms/epoch - 1ms/step\n",
            "Epoch 8/20\n",
            "81/81 - 0s - loss: 0.2546 - accuracy: 0.8774 - val_loss: 0.2460 - val_accuracy: 0.8704 - 109ms/epoch - 1ms/step\n",
            "Epoch 9/20\n",
            "81/81 - 0s - loss: 0.2444 - accuracy: 0.8736 - val_loss: 0.2377 - val_accuracy: 0.8704 - 118ms/epoch - 1ms/step\n",
            "Epoch 10/20\n",
            "81/81 - 0s - loss: 0.2375 - accuracy: 0.8772 - val_loss: 0.2325 - val_accuracy: 0.8659 - 102ms/epoch - 1ms/step\n",
            "Epoch 11/20\n",
            "81/81 - 0s - loss: 0.2327 - accuracy: 0.8776 - val_loss: 0.2288 - val_accuracy: 0.8664 - 104ms/epoch - 1ms/step\n",
            "Epoch 12/20\n",
            "81/81 - 0s - loss: 0.2291 - accuracy: 0.8775 - val_loss: 0.2259 - val_accuracy: 0.8664 - 97ms/epoch - 1ms/step\n",
            "Epoch 13/20\n",
            "81/81 - 0s - loss: 0.2264 - accuracy: 0.8776 - val_loss: 0.2234 - val_accuracy: 0.8664 - 97ms/epoch - 1ms/step\n",
            "Epoch 14/20\n",
            "81/81 - 0s - loss: 0.2244 - accuracy: 0.8777 - val_loss: 0.2214 - val_accuracy: 0.8674 - 115ms/epoch - 1ms/step\n",
            "Epoch 15/20\n",
            "81/81 - 0s - loss: 0.2228 - accuracy: 0.8787 - val_loss: 0.2203 - val_accuracy: 0.8684 - 121ms/epoch - 1ms/step\n",
            "Epoch 16/20\n",
            "81/81 - 0s - loss: 0.2215 - accuracy: 0.8802 - val_loss: 0.2191 - val_accuracy: 0.8684 - 114ms/epoch - 1ms/step\n",
            "Epoch 17/20\n",
            "81/81 - 0s - loss: 0.2205 - accuracy: 0.8833 - val_loss: 0.2182 - val_accuracy: 0.9151 - 109ms/epoch - 1ms/step\n",
            "Epoch 18/20\n",
            "81/81 - 0s - loss: 0.2196 - accuracy: 0.8893 - val_loss: 0.2172 - val_accuracy: 0.9157 - 91ms/epoch - 1ms/step\n",
            "Epoch 19/20\n",
            "81/81 - 0s - loss: 0.2188 - accuracy: 0.9041 - val_loss: 0.2167 - val_accuracy: 0.9162 - 86ms/epoch - 1ms/step\n",
            "Epoch 20/20\n",
            "81/81 - 0s - loss: 0.2182 - accuracy: 0.9042 - val_loss: 0.2162 - val_accuracy: 0.9162 - 89ms/epoch - 1ms/step\n",
            "62/62 [==============================] - 0s 738us/step - loss: 0.2162 - accuracy: 0.9162\n",
            "Multilayer perceptron model accuracy: 0.9161585569381714\n"
          ]
        }
      ],
      "source": [
        "def create_multilayer_perceptron():\n",
        "    model = tf.keras.Sequential()\n",
        "    model.add(tf.keras.layers.Flatten(input_shape=(4,4,1)))\n",
        "    model.add(tf.keras.layers.Dense(4, activation='relu'))\n",
        "    model.add(tf.keras.layers.Dense(1))\n",
        "    return model\n",
        "\n",
        "model = create_multilayer_perceptron()\n",
        "model.compile(loss=tf.keras.losses.BinaryCrossentropy(from_logits=True),\n",
        "              optimizer=tf.keras.optimizers.Adam(),\n",
        "              metrics=['accuracy'])\n",
        "\n",
        "model.summary()\n",
        "\n",
        "model.fit(x_train_bin,\n",
        "            y_train_nocon,\n",
        "            batch_size=128,\n",
        "            epochs=20,\n",
        "            verbose=2,\n",
        "            validation_data=(x_test_bin, y_test))\n",
        "\n",
        "mlp_results = model.evaluate(x_test_bin, y_test)\n",
        "\n",
        "mlp_accuracy = mlp_results[1]\n",
        "\n",
        "print(\"Multilayer perceptron model accuracy:\", mlp_accuracy)"
      ]
    },
    {
      "cell_type": "code",
      "execution_count": 42,
      "metadata": {},
      "outputs": [
        {
          "name": "stdout",
          "output_type": "stream",
          "text": [
            "Model: \"sequential_6\"\n",
            "_________________________________________________________________\n",
            " Layer (type)                Output Shape              Param #   \n",
            "=================================================================\n",
            " conv2d_2 (Conv2D)           (None, 2, 2, 4)           40        \n",
            "                                                                 \n",
            " flatten_5 (Flatten)         (None, 16)                0         \n",
            "                                                                 \n",
            " dense_9 (Dense)             (None, 1)                 17        \n",
            "                                                                 \n",
            "=================================================================\n",
            "Total params: 57\n",
            "Trainable params: 57\n",
            "Non-trainable params: 0\n",
            "_________________________________________________________________\n",
            "Epoch 1/20\n",
            "81/81 - 1s - loss: 0.6330 - accuracy: 0.6252 - val_loss: 0.5831 - val_accuracy: 0.6535 - 544ms/epoch - 7ms/step\n",
            "Epoch 2/20\n",
            "81/81 - 0s - loss: 0.5443 - accuracy: 0.7472 - val_loss: 0.4761 - val_accuracy: 0.7642 - 119ms/epoch - 1ms/step\n",
            "Epoch 3/20\n",
            "81/81 - 0s - loss: 0.4421 - accuracy: 0.8133 - val_loss: 0.3831 - val_accuracy: 0.8211 - 118ms/epoch - 1ms/step\n",
            "Epoch 4/20\n",
            "81/81 - 0s - loss: 0.3704 - accuracy: 0.8292 - val_loss: 0.3279 - val_accuracy: 0.8460 - 110ms/epoch - 1ms/step\n",
            "Epoch 5/20\n",
            "81/81 - 0s - loss: 0.3264 - accuracy: 0.8522 - val_loss: 0.2961 - val_accuracy: 0.8496 - 113ms/epoch - 1ms/step\n",
            "Epoch 6/20\n",
            "81/81 - 0s - loss: 0.3004 - accuracy: 0.8536 - val_loss: 0.2776 - val_accuracy: 0.8506 - 113ms/epoch - 1ms/step\n",
            "Epoch 7/20\n",
            "81/81 - 0s - loss: 0.2841 - accuracy: 0.8550 - val_loss: 0.2667 - val_accuracy: 0.8501 - 108ms/epoch - 1ms/step\n",
            "Epoch 8/20\n",
            "81/81 - 0s - loss: 0.2734 - accuracy: 0.8614 - val_loss: 0.2589 - val_accuracy: 0.8587 - 121ms/epoch - 1ms/step\n",
            "Epoch 9/20\n",
            "81/81 - 0s - loss: 0.2656 - accuracy: 0.8629 - val_loss: 0.2545 - val_accuracy: 0.8587 - 107ms/epoch - 1ms/step\n",
            "Epoch 10/20\n",
            "81/81 - 0s - loss: 0.2599 - accuracy: 0.8654 - val_loss: 0.2504 - val_accuracy: 0.8587 - 129ms/epoch - 2ms/step\n",
            "Epoch 11/20\n",
            "81/81 - 0s - loss: 0.2557 - accuracy: 0.8680 - val_loss: 0.2482 - val_accuracy: 0.8603 - 128ms/epoch - 2ms/step\n",
            "Epoch 12/20\n",
            "81/81 - 0s - loss: 0.2523 - accuracy: 0.8688 - val_loss: 0.2459 - val_accuracy: 0.8613 - 131ms/epoch - 2ms/step\n",
            "Epoch 13/20\n",
            "81/81 - 0s - loss: 0.2495 - accuracy: 0.8781 - val_loss: 0.2443 - val_accuracy: 0.8613 - 129ms/epoch - 2ms/step\n",
            "Epoch 14/20\n",
            "81/81 - 0s - loss: 0.2469 - accuracy: 0.8842 - val_loss: 0.2420 - val_accuracy: 0.8613 - 122ms/epoch - 2ms/step\n",
            "Epoch 15/20\n",
            "81/81 - 0s - loss: 0.2443 - accuracy: 0.8717 - val_loss: 0.2397 - val_accuracy: 0.9080 - 128ms/epoch - 2ms/step\n",
            "Epoch 16/20\n",
            "81/81 - 0s - loss: 0.2422 - accuracy: 0.8936 - val_loss: 0.2384 - val_accuracy: 0.9080 - 139ms/epoch - 2ms/step\n",
            "Epoch 17/20\n",
            "81/81 - 0s - loss: 0.2402 - accuracy: 0.8909 - val_loss: 0.2374 - val_accuracy: 0.9080 - 128ms/epoch - 2ms/step\n",
            "Epoch 18/20\n",
            "81/81 - 0s - loss: 0.2385 - accuracy: 0.8876 - val_loss: 0.2357 - val_accuracy: 0.9090 - 133ms/epoch - 2ms/step\n",
            "Epoch 19/20\n",
            "81/81 - 0s - loss: 0.2370 - accuracy: 0.8948 - val_loss: 0.2346 - val_accuracy: 0.9090 - 130ms/epoch - 2ms/step\n",
            "Epoch 20/20\n",
            "81/81 - 0s - loss: 0.2356 - accuracy: 0.8927 - val_loss: 0.2344 - val_accuracy: 0.8623 - 131ms/epoch - 2ms/step\n",
            "62/62 [==============================] - 0s 1ms/step - loss: 0.2344 - accuracy: 0.8623\n",
            "Convolutional neural network model accuracy: 0.8622967600822449\n"
          ]
        }
      ],
      "source": [
        "def create_convolutional_neural_network():\n",
        "    model = tf.keras.Sequential()\n",
        "    model.add(tf.keras.layers.Conv2D(4, [3, 3], activation='relu', input_shape=(4,4,1)))\n",
        "    model.add(tf.keras.layers.Flatten())\n",
        "    model.add(tf.keras.layers.Dense(1))\n",
        "    return model\n",
        "\n",
        "model = create_convolutional_neural_network()\n",
        "\n",
        "model.compile(loss=tf.keras.losses.BinaryCrossentropy(from_logits=True),\n",
        "                optimizer=tf.keras.optimizers.Adam(),\n",
        "                metrics=['accuracy'])\n",
        "\n",
        "model.summary()\n",
        "\n",
        "model.fit(x_train_bin,\n",
        "            y_train_nocon,\n",
        "            batch_size=128,\n",
        "            epochs=20,\n",
        "            verbose=2,\n",
        "            validation_data=(x_test_bin, y_test))\n",
        "\n",
        "cnn_results = model.evaluate(x_test_bin, y_test)\n",
        "\n",
        "cnn_accuracy = cnn_results[1]\n",
        "\n",
        "print(\"Convolutional neural network model accuracy:\", cnn_accuracy)"
      ]
    },
    {
      "cell_type": "code",
      "execution_count": 43,
      "metadata": {},
      "outputs": [
        {
          "name": "stdout",
          "output_type": "stream",
          "text": [
            "Model: \"sequential_7\"\n",
            "_________________________________________________________________\n",
            " Layer (type)                Output Shape              Param #   \n",
            "=================================================================\n",
            " lstm (LSTM)                 (None, 4)                 144       \n",
            "                                                                 \n",
            " dense_10 (Dense)            (None, 1)                 5         \n",
            "                                                                 \n",
            "=================================================================\n",
            "Total params: 149\n",
            "Trainable params: 149\n",
            "Non-trainable params: 0\n",
            "_________________________________________________________________\n",
            "Epoch 1/20\n",
            "81/81 - 2s - loss: 0.6843 - accuracy: 0.5249 - val_loss: 0.6724 - val_accuracy: 0.4868 - 2s/epoch - 23ms/step\n",
            "Epoch 2/20\n",
            "81/81 - 0s - loss: 0.6619 - accuracy: 0.5249 - val_loss: 0.6424 - val_accuracy: 0.4868 - 225ms/epoch - 3ms/step\n",
            "Epoch 3/20\n",
            "81/81 - 0s - loss: 0.6239 - accuracy: 0.5315 - val_loss: 0.5813 - val_accuracy: 0.4990 - 248ms/epoch - 3ms/step\n",
            "Epoch 4/20\n",
            "81/81 - 0s - loss: 0.5604 - accuracy: 0.6299 - val_loss: 0.5014 - val_accuracy: 0.6428 - 246ms/epoch - 3ms/step\n",
            "Epoch 5/20\n",
            "81/81 - 0s - loss: 0.4991 - accuracy: 0.7084 - val_loss: 0.4382 - val_accuracy: 0.7586 - 248ms/epoch - 3ms/step\n",
            "Epoch 6/20\n",
            "81/81 - 0s - loss: 0.4579 - accuracy: 0.7679 - val_loss: 0.4015 - val_accuracy: 0.7998 - 260ms/epoch - 3ms/step\n",
            "Epoch 7/20\n",
            "81/81 - 0s - loss: 0.4288 - accuracy: 0.7952 - val_loss: 0.3758 - val_accuracy: 0.8003 - 267ms/epoch - 3ms/step\n",
            "Epoch 8/20\n",
            "81/81 - 0s - loss: 0.4047 - accuracy: 0.7984 - val_loss: 0.3562 - val_accuracy: 0.8008 - 271ms/epoch - 3ms/step\n",
            "Epoch 9/20\n",
            "81/81 - 0s - loss: 0.3839 - accuracy: 0.8262 - val_loss: 0.3379 - val_accuracy: 0.8653 - 265ms/epoch - 3ms/step\n",
            "Epoch 10/20\n",
            "81/81 - 0s - loss: 0.3655 - accuracy: 0.8527 - val_loss: 0.3238 - val_accuracy: 0.8699 - 249ms/epoch - 3ms/step\n",
            "Epoch 11/20\n",
            "81/81 - 0s - loss: 0.3482 - accuracy: 0.8567 - val_loss: 0.3091 - val_accuracy: 0.8770 - 263ms/epoch - 3ms/step\n",
            "Epoch 12/20\n",
            "81/81 - 0s - loss: 0.3318 - accuracy: 0.8552 - val_loss: 0.2962 - val_accuracy: 0.8780 - 258ms/epoch - 3ms/step\n",
            "Epoch 13/20\n",
            "81/81 - 0s - loss: 0.3163 - accuracy: 0.8437 - val_loss: 0.2858 - val_accuracy: 0.8404 - 266ms/epoch - 3ms/step\n",
            "Epoch 14/20\n",
            "81/81 - 0s - loss: 0.3027 - accuracy: 0.8538 - val_loss: 0.2777 - val_accuracy: 0.8404 - 237ms/epoch - 3ms/step\n",
            "Epoch 15/20\n",
            "81/81 - 0s - loss: 0.2921 - accuracy: 0.8532 - val_loss: 0.2707 - val_accuracy: 0.8420 - 202ms/epoch - 2ms/step\n",
            "Epoch 16/20\n",
            "81/81 - 0s - loss: 0.2836 - accuracy: 0.8574 - val_loss: 0.2639 - val_accuracy: 0.8577 - 209ms/epoch - 3ms/step\n",
            "Epoch 17/20\n",
            "81/81 - 0s - loss: 0.2766 - accuracy: 0.8624 - val_loss: 0.2592 - val_accuracy: 0.8572 - 296ms/epoch - 4ms/step\n",
            "Epoch 18/20\n",
            "81/81 - 0s - loss: 0.2705 - accuracy: 0.8650 - val_loss: 0.2554 - val_accuracy: 0.8572 - 298ms/epoch - 4ms/step\n",
            "Epoch 19/20\n",
            "81/81 - 0s - loss: 0.2650 - accuracy: 0.8654 - val_loss: 0.2522 - val_accuracy: 0.8572 - 277ms/epoch - 3ms/step\n",
            "Epoch 20/20\n",
            "81/81 - 0s - loss: 0.2604 - accuracy: 0.8664 - val_loss: 0.2482 - val_accuracy: 0.8567 - 258ms/epoch - 3ms/step\n",
            "62/62 [==============================] - 0s 1ms/step - loss: 0.2482 - accuracy: 0.8567\n",
            "Recurrent neural network model accuracy: 0.8567073345184326\n"
          ]
        }
      ],
      "source": [
        "def create_recurrent_neural_network():\n",
        "    model = tf.keras.Sequential()\n",
        "    model.add(tf.keras.layers.LSTM(4, input_shape=(4,4)))\n",
        "    model.add(tf.keras.layers.Dense(1))\n",
        "    return model\n",
        "\n",
        "model = create_recurrent_neural_network()\n",
        "\n",
        "model.compile(loss=tf.keras.losses.BinaryCrossentropy(from_logits=True),\n",
        "                optimizer=tf.keras.optimizers.Adam(),\n",
        "                metrics=['accuracy'])\n",
        "\n",
        "model.summary()\n",
        "\n",
        "model.fit(x_train_bin,\n",
        "            y_train_nocon,\n",
        "            batch_size=128,\n",
        "            epochs=20,\n",
        "            verbose=2,\n",
        "            validation_data=(x_test_bin, y_test))\n",
        "\n",
        "rnn_results = model.evaluate(x_test_bin, y_test)\n",
        "\n",
        "rnn_accuracy = rnn_results[1]\n",
        "\n",
        "print(\"Recurrent neural network model accuracy:\", rnn_accuracy)"
      ]
    },
    {
      "cell_type": "code",
      "execution_count": 51,
      "metadata": {},
      "outputs": [
        {
          "name": "stdout",
          "output_type": "stream",
          "text": [
            "Logistic Regression accuracy is: 90.71\n",
            "Decision Tree accuracy is: 90.92\n",
            "Random Forest accuracy is: 90.92\n",
            "SVM accuracy is: 90.85\n"
          ]
        }
      ],
      "source": [
        "# Teste com o modelo de regressão logística, decision tree, random forest e SVM\n",
        "from sklearn.linear_model import LogisticRegression\n",
        "from sklearn.tree import DecisionTreeClassifier\n",
        "from sklearn.ensemble import RandomForestClassifier\n",
        "\n",
        "x_train_flat = np.reshape(x_train_bin, (x_train_bin.shape[0], -1))\n",
        "x_test_flat = np.reshape(x_test_bin, (x_test_bin.shape[0], -1))\n",
        "\n",
        "# Logistic Regression\n",
        "logreg = LogisticRegression()\n",
        "logreg.fit(x_train_flat, y_train_nocon)\n",
        "y_pred = logreg.predict(x_test_flat)\n",
        "acc_logreg = round(logreg.score(x_train_flat, y_train_nocon) * 100, 2)\n",
        "print(\"Logistic Regression accuracy is:\", acc_logreg)\n",
        "\n",
        "# Decision Tree\n",
        "decision_tree = DecisionTreeClassifier()\n",
        "decision_tree.fit(x_train_flat, y_train_nocon)\n",
        "y_pred = decision_tree.predict(x_test_flat)\n",
        "acc_decision_tree = round(decision_tree.score(x_train_flat, y_train_nocon) * 100, 2)\n",
        "print(\"Decision Tree accuracy is:\", acc_decision_tree)\n",
        "\n",
        "# Random Forest\n",
        "random_forest = RandomForestClassifier()\n",
        "random_forest.fit(x_train_flat, y_train_nocon)\n",
        "y_pred = random_forest.predict(x_test_flat)\n",
        "acc_random_forest = round(random_forest.score(x_train_flat, y_train_nocon) * 100, 2)\n",
        "print(\"Random Forest accuracy is:\", acc_random_forest)\n",
        "\n",
        "# SVM\n",
        "from sklearn.svm import SVC\n",
        "svm = SVC()\n",
        "svm.fit(x_train_flat, y_train_nocon)\n",
        "y_pred = svm.predict(x_test_flat)\n",
        "acc_svm = round(svm.score(x_train_flat, y_train_nocon) * 100, 2)\n",
        "print(\"SVM accuracy is:\", acc_svm)"
      ]
    },
    {
      "cell_type": "code",
      "execution_count": 44,
      "metadata": {},
      "outputs": [
        {
          "data": {
            "image/png": "[encoded data removed]",
            "text/plain": [
              "<Figure size 640x480 with 1 Axes>"
            ]
          },
          "metadata": {},
          "output_type": "display_data"
        }
      ],
      "source": [
        "# Plot the accuracy of all the models.\n",
        "ax = sns.barplot(x=[\"Perceptron\", \"Multilayer perceptron\", \"Convolutional neural network\", \"Recurrent neural network\"],\n",
        "            y=[perceptron_accuracy, mlp_accuracy, cnn_accuracy, rnn_accuracy])"
      ]
    }
  ],
  "metadata": {
    "colab": {
      "collapsed_sections": [],
      "name": "mnist.ipynb",
      "private_outputs": true,
      "provenance": [],
      "toc_visible": true
    },
    "kernelspec": {
      "display_name": "Python 3",
      "language": "python",
      "name": "python3"
    },
    "language_info": {
      "codemirror_mode": {
        "name": "ipython",
        "version": 3
      },
      "file_extension": ".py",
      "mimetype": "text/x-python",
      "name": "python",
      "nbconvert_exporter": "python",
      "pygments_lexer": "ipython3",
      "version": "3.8.17"
    },
    "vscode": {
      "interpreter": {
        "hash": "916dbcbb3f70747c44a77c7bcd40155683ae19c65e1c03b4aa3499c5328201f1"
      }
    }
  },
  "nbformat": 4,
  "nbformat_minor": 0
}
